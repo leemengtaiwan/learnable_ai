{
 "cells": [
  {
   "cell_type": "markdown",
   "metadata": {},
   "source": [
    "# Practical AI\n",
    "> 以 PyTorch、TensorFlow、scikit-learn 以及 pandas 等函式庫實作的實務機器學習、深度學習應用。"
   ]
  },
  {
   "cell_type": "markdown",
   "metadata": {},
   "source": [
    "## 本地開發與環境設置"
   ]
  },
  {
   "cell_type": "markdown",
   "metadata": {},
   "source": [
    "載下 repo："
   ]
  },
  {
   "cell_type": "markdown",
   "metadata": {},
   "source": [
    "```bash\n",
    "export REPO=practical_ai\n",
    "git clone https://github.com/leemengtaiwan/$REPO.git\n",
    "cd $REPO\n",
    "```"
   ]
  },
  {
   "cell_type": "markdown",
   "metadata": {},
   "source": [
    "建立新的 [Anaconda](https://www.anaconda.com/) 環境並在該環境內安裝函式庫："
   ]
  },
  {
   "cell_type": "markdown",
   "metadata": {},
   "source": [
    "```bash\n",
    "conda create -n $REPO python=3.6 -y\n",
    "conda activate $REPO  # 或 source activate $REPO\n",
    "pip install -r requirements.txt\n",
    "\n",
    "conda install pytorch torchvision cudatoolkit=10.1 -c pytorch\n",
    "conda install -c conda-forge opencv\n",
    "pip install easydict\n",
    "pip install more-itertools\n",
    "```"
   ]
  },
  {
   "cell_type": "markdown",
   "metadata": {},
   "source": [
    "安裝 Jupyter Lab："
   ]
  },
  {
   "cell_type": "markdown",
   "metadata": {},
   "source": [
    "```bash\n",
    "conda install -c conda-forge jupyterlab -y\n",
    "pip install ipywidgets\n",
    "```"
   ]
  },
  {
   "cell_type": "markdown",
   "metadata": {},
   "source": [
    "安裝 [JupyterLab GPU Dashboards](https://github.com/rapidsai/jupyterlab-nvdashboard)："
   ]
  },
  {
   "cell_type": "markdown",
   "metadata": {},
   "source": [
    "```bash\n",
    "pip install jupyterlab-nvdashboard\n",
    "jupyter labextension install jupyterlab-nvdashboard\n",
    "```"
   ]
  },
  {
   "cell_type": "markdown",
   "metadata": {},
   "source": [
    "設置 [nbdev](https://github.com/fastai/nbdev) 環境並以 editable 的方式安裝此 package："
   ]
  },
  {
   "cell_type": "markdown",
   "metadata": {},
   "source": [
    "```bash\n",
    "nbdev_install_git_hooks\n",
    "nbdev_build_lib\n",
    "pip install -e \".[dev]\"\n",
    "```"
   ]
  },
  {
   "cell_type": "markdown",
   "metadata": {},
   "source": [
    "更新文件："
   ]
  },
  {
   "cell_type": "markdown",
   "metadata": {},
   "source": [
    "```bash\n",
    "nbdev_build_docs\n",
    "```"
   ]
  }
 ],
 "metadata": {
  "kernelspec": {
   "display_name": "conda_practical_ai",
   "language": "python",
   "name": "conda_practical_ai"
  }
 },
 "nbformat": 4,
 "nbformat_minor": 4
}
