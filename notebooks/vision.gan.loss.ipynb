{
 "cells": [
  {
   "cell_type": "code",
   "execution_count": null,
   "metadata": {},
   "outputs": [],
   "source": [
    "#default_exp vision.gan.loss"
   ]
  },
  {
   "cell_type": "code",
   "execution_count": null,
   "metadata": {},
   "outputs": [],
   "source": [
    "#hide\n",
    "from IPython.display import clear_output\n",
    "from nbdev.export import notebook2script\n",
    "%reload_ext autoreload\n",
    "%autoreload 2"
   ]
  },
  {
   "cell_type": "code",
   "execution_count": null,
   "metadata": {},
   "outputs": [],
   "source": [
    "#export\n",
    "import torch\n",
    "import logging\n",
    "import numpy as np \n",
    "import pandas as pd\n",
    "from torch import nn\n",
    "import altair as alt\n",
    "import torch.nn.functional as F\n",
    "from functools import partial\n",
    "\n",
    "\n",
    "logger = logging.getLogger()\n",
    "logger.setLevel(\"INFO\")"
   ]
  },
  {
   "cell_type": "markdown",
   "metadata": {},
   "source": [
    "# vision.gan.loss\n",
    "\n",
    "> 實作對抗生成網路（Generative Adversarial Network） 文獻中常見的損失函數。此模組主要提供可依照對抗類型（adversarial type） 取得生成器與辨別器對應損失函數的介面。"
   ]
  },
  {
   "cell_type": "markdown",
   "metadata": {},
   "source": [
    "## Utilies"
   ]
  },
  {
   "cell_type": "markdown",
   "metadata": {},
   "source": [
    "### 建立跟 logits 同 device 的 label tensor"
   ]
  },
  {
   "cell_type": "code",
   "execution_count": null,
   "metadata": {},
   "outputs": [],
   "source": [
    "#export\n",
    "def create_like(t, func, on_gpu=False):\n",
    "    t2 = func(t)\n",
    "    if on_gpu:\n",
    "        t2 = t.cuda(t.device.index)\n",
    "    return t2\n",
    "\n",
    "\n",
    "def ones_like(t, on_gpu=False):\n",
    "    return create_like(t, torch.ones_like, on_gpu)\n",
    "\n",
    "\n",
    "def zeros_like(t, on_gpu=False):\n",
    "    return create_like(t, torch.zeros_like, on_gpu)"
   ]
  },
  {
   "cell_type": "markdown",
   "metadata": {},
   "source": [
    "### 依對抗類型取得相應生成器與鑑別器損失函數"
   ]
  },
  {
   "cell_type": "code",
   "execution_count": null,
   "metadata": {},
   "outputs": [],
   "source": [
    "#export\n",
    "def get_adversarial_loss_fns(type, is_logits=True, reduction=\"mean\", on_gpu=False):\n",
    "    if type == \"gan\":\n",
    "        fn = get_gan_loss_fns\n",
    "    elif type == \"lsgan\":\n",
    "        fn = get_lsgan_loss_fns\n",
    "    elif type == \"wgan\":\n",
    "        fn = get_wgan_loss_fns\n",
    "    elif type == \"geometric_gan\":\n",
    "        fn = partial(get_hinge_loss_fns, version=\"geometric_gan\")\n",
    "    elif type == \"sngan\":\n",
    "        fn = get_sngan_loss_fns\n",
    "    elif type == \"hinge_v2\":\n",
    "        fn = partial(get_hinge_loss_fns, version=\"v2\")\n",
    "    else:\n",
    "        raise NotImplementedError\n",
    "        \n",
    "    return fn(is_logits=is_logits, reduction=reduction, on_gpu=on_gpu)"
   ]
  },
  {
   "cell_type": "markdown",
   "metadata": {},
   "source": [
    "### 渲染不同對抗類型的損失函數"
   ]
  },
  {
   "cell_type": "code",
   "execution_count": null,
   "metadata": {},
   "outputs": [],
   "source": [
    "#export\n",
    "def draw_adversarial_loss_fns(type, arange=(-3, 3., 0.1), reduction=\"none\", title=None):\n",
    "    \n",
    "    g_loss_fn, d_loss_fn = get_adversarial_loss_fns(type, reduction=reduction)\n",
    "    x = torch.arange(*arange)\n",
    "    real_logits = fake_logits = x.unsqueeze(-1)\n",
    "    \n",
    "    # generator loss\n",
    "    g_loss = g_loss_fn(fake_logits)\n",
    "    \n",
    "    # discriminator loss\n",
    "    d_real_loss, d_fake_loss = d_loss_fn(real_logits, fake_logits)\n",
    "    \n",
    "    # build dataframe for easy rendering\n",
    "    x = x.squeeze().numpy()\n",
    "    data = pd.DataFrame.from_dict(dict(\n",
    "        real_logits=x,\n",
    "        fake_logits=x,\n",
    "        g_loss=g_loss.squeeze().numpy(),\n",
    "        d_real_loss=d_real_loss.squeeze().numpy(),\n",
    "        d_fake_loss=d_fake_loss.squeeze().numpy(),\n",
    "    ), orient=\"columns\")\n",
    "    \n",
    "    # draw loss functions\n",
    "    d_real_panel = alt.Chart(data, title='[D] real loss').mark_line().encode(\n",
    "        x=\"real_logits\",\n",
    "        y=\"d_real_loss\")\n",
    "    d_fake_panel = alt.Chart(data, title='[D] fake loss').mark_line().encode(\n",
    "        x=\"fake_logits\",\n",
    "        y=\"d_fake_loss\")\n",
    "    g_panel = alt.Chart(data, title='[G] loss').mark_line().encode(\n",
    "        x=\"fake_logits\",\n",
    "        y=\"g_loss\"\n",
    "    )\n",
    "\n",
    "    chart = alt.hconcat(d_real_panel, d_fake_panel, title=type)\n",
    "    chart &= g_panel\n",
    "    \n",
    "    return chart"
   ]
  },
  {
   "cell_type": "markdown",
   "metadata": {},
   "source": [
    "## GAN"
   ]
  },
  {
   "cell_type": "code",
   "execution_count": null,
   "metadata": {},
   "outputs": [],
   "source": [
    "#export\n",
    "def get_gan_loss_fns(is_logits=True, reduction=\"mean\", on_gpu=False, **kwargs):\n",
    "    if is_logits:\n",
    "        bce = partial(F.binary_cross_entropy_with_logits, reduction=reduction)\n",
    "    else:\n",
    "        bce = partial(F.binary_cross_entropy, reduction=reduction)\n",
    "\n",
    "    def g_loss_fn(fake_logits, on_gpu=False):\n",
    "        out = bce(fake_logits, ones_like(fake_logits, on_gpu))\n",
    "        return out\n",
    "    \n",
    "    def d_loss_fn(real_logits, fake_logits, on_gpu=False):\n",
    "        real_loss = bce(real_logits, ones_like(real_logits, on_gpu))\n",
    "        fake_loss = bce(fake_logits, zeros_like(fake_logits, on_gpu))\n",
    "        return real_loss, fake_loss\n",
    "    \n",
    "    return g_loss_fn, d_loss_fn"
   ]
  },
  {
   "cell_type": "code",
   "execution_count": null,
   "metadata": {},
   "outputs": [
    {
     "data": {
      "text/html": [
       "\n",
       "<div id=\"altair-viz-957d63d9056043ca8bdd6aa226b8b6b2\"></div>\n",
       "<script type=\"text/javascript\">\n",
       "  (function(spec, embedOpt){\n",
       "    const outputDiv = document.getElementById(\"altair-viz-957d63d9056043ca8bdd6aa226b8b6b2\");\n",
       "    const paths = {\n",
       "      \"vega\": \"https://cdn.jsdelivr.net/npm//vega@5?noext\",\n",
       "      \"vega-lib\": \"https://cdn.jsdelivr.net/npm//vega-lib?noext\",\n",
       "      \"vega-lite\": \"https://cdn.jsdelivr.net/npm//vega-lite@4.0.2?noext\",\n",
       "      \"vega-embed\": \"https://cdn.jsdelivr.net/npm//vega-embed@6?noext\",\n",
       "    };\n",
       "\n",
       "    function loadScript(lib) {\n",
       "      return new Promise(function(resolve, reject) {\n",
       "        var s = document.createElement('script');\n",
       "        s.src = paths[lib];\n",
       "        s.async = true;\n",
       "        s.onload = () => resolve(paths[lib]);\n",
       "        s.onerror = () => reject(`Error loading script: ${paths[lib]}`);\n",
       "        document.getElementsByTagName(\"head\")[0].appendChild(s);\n",
       "      });\n",
       "    }\n",
       "\n",
       "    function showError(err) {\n",
       "      outputDiv.innerHTML = `<div class=\"error\" style=\"color:red;\">${err}</div>`;\n",
       "      throw err;\n",
       "    }\n",
       "\n",
       "    function displayChart(vegaEmbed) {\n",
       "      vegaEmbed(outputDiv, spec, embedOpt)\n",
       "        .catch(err => showError(`Javascript Error: ${err.message}<br>This usually means there's a typo in your chart specification. See the javascript console for the full traceback.`));\n",
       "    }\n",
       "\n",
       "    if(typeof define === \"function\" && define.amd) {\n",
       "      requirejs.config({paths});\n",
       "      require([\"vega-embed\"], displayChart, err => showError(`Error loading script: ${err.message}`));\n",
       "    } else if (typeof vegaEmbed === \"function\") {\n",
       "      displayChart(vegaEmbed);\n",
       "    } else {\n",
       "      loadScript(\"vega\")\n",
       "        .then(() => loadScript(\"vega-lite\"))\n",
       "        .then(() => loadScript(\"vega-embed\"))\n",
       "        .catch(showError)\n",
       "        .then(() => displayChart(vegaEmbed));\n",
       "    }\n",
       "  })({\"config\": {\"view\": {\"continuousWidth\": 400, \"continuousHeight\": 300}}, \"vconcat\": [{\"hconcat\": [{\"mark\": \"line\", \"encoding\": {\"x\": {\"type\": \"quantitative\", \"field\": \"real_logits\"}, \"y\": {\"type\": \"quantitative\", \"field\": \"d_real_loss\"}}, \"title\": \"[D] real loss\"}, {\"mark\": \"line\", \"encoding\": {\"x\": {\"type\": \"quantitative\", \"field\": \"fake_logits\"}, \"y\": {\"type\": \"quantitative\", \"field\": \"d_fake_loss\"}}, \"title\": \"[D] fake loss\"}], \"title\": \"gan\"}, {\"mark\": \"line\", \"encoding\": {\"x\": {\"type\": \"quantitative\", \"field\": \"fake_logits\"}, \"y\": {\"type\": \"quantitative\", \"field\": \"g_loss\"}}, \"title\": \"[G] loss\"}], \"data\": {\"name\": \"data-03417f8f9b9f978ca89304a237f3b074\"}, \"$schema\": \"https://vega.github.io/schema/vega-lite/v4.0.2.json\", \"datasets\": {\"data-03417f8f9b9f978ca89304a237f3b074\": [{\"real_logits\": -3.0, \"fake_logits\": -3.0, \"g_loss\": 3.0485873222351074, \"d_real_loss\": 3.0485873222351074, \"d_fake_loss\": 0.04858732968568802}, {\"real_logits\": -2.9000000953674316, \"fake_logits\": -2.9000000953674316, \"g_loss\": 2.9535627365112305, \"d_real_loss\": 2.9535627365112305, \"d_fake_loss\": 0.053562749177217484}, {\"real_logits\": -2.799999952316284, \"fake_logits\": -2.799999952316284, \"g_loss\": 2.8590328693389893, \"d_real_loss\": 2.8590328693389893, \"d_fake_loss\": 0.059032849967479706}, {\"real_logits\": -2.700000047683716, \"fake_logits\": -2.700000047683716, \"g_loss\": 2.7650437355041504, \"d_real_loss\": 2.7650437355041504, \"d_fake_loss\": 0.06504359841346741}, {\"real_logits\": -2.5999999046325684, \"fake_logits\": -2.5999999046325684, \"g_loss\": 2.671644687652588, \"d_real_loss\": 2.671644687652588, \"d_fake_loss\": 0.07164470106363297}, {\"real_logits\": -2.5, \"fake_logits\": -2.5, \"g_loss\": 2.578889846801758, \"d_real_loss\": 2.578889846801758, \"d_fake_loss\": 0.07888974994421005}, {\"real_logits\": -2.4000000953674316, \"fake_logits\": -2.4000000953674316, \"g_loss\": 2.4868361949920654, \"d_real_loss\": 2.4868361949920654, \"d_fake_loss\": 0.08683611452579498}, {\"real_logits\": -2.299999952316284, \"fake_logits\": -2.299999952316284, \"g_loss\": 2.395545482635498, \"d_real_loss\": 2.395545482635498, \"d_fake_loss\": 0.0955454483628273}, {\"real_logits\": -2.200000047683716, \"fake_logits\": -2.200000047683716, \"g_loss\": 2.3050832748413086, \"d_real_loss\": 2.3050832748413086, \"d_fake_loss\": 0.10508329421281815}, {\"real_logits\": -2.0999999046325684, \"fake_logits\": -2.0999999046325684, \"g_loss\": 2.215519428253174, \"d_real_loss\": 2.215519428253174, \"d_fake_loss\": 0.11551952362060547}, {\"real_logits\": -2.0, \"fake_logits\": -2.0, \"g_loss\": 2.1269280910491943, \"d_real_loss\": 2.1269280910491943, \"d_fake_loss\": 0.12692804634571075}, {\"real_logits\": -1.899999976158142, \"fake_logits\": -1.899999976158142, \"g_loss\": 2.039386749267578, \"d_real_loss\": 2.039386749267578, \"d_fake_loss\": 0.13938669860363007}, {\"real_logits\": -1.7999999523162842, \"fake_logits\": -1.7999999523162842, \"g_loss\": 1.9529776573181152, \"d_real_loss\": 1.9529776573181152, \"d_fake_loss\": 0.15297766029834747}, {\"real_logits\": -1.7000000476837158, \"fake_logits\": -1.7000000476837158, \"g_loss\": 1.8677860498428345, \"d_real_loss\": 1.8677860498428345, \"d_fake_loss\": 0.16778598725795746}, {\"real_logits\": -1.600000023841858, \"fake_logits\": -1.600000023841858, \"g_loss\": 1.7839007377624512, \"d_real_loss\": 1.7839007377624512, \"d_fake_loss\": 0.18390077352523804}, {\"real_logits\": -1.5, \"fake_logits\": -1.5, \"g_loss\": 1.7014133930206299, \"d_real_loss\": 1.7014133930206299, \"d_fake_loss\": 0.2014133334159851}, {\"real_logits\": -1.399999976158142, \"fake_logits\": -1.399999976158142, \"g_loss\": 1.6204173564910889, \"d_real_loss\": 1.6204173564910889, \"d_fake_loss\": 0.22041738033294678}, {\"real_logits\": -1.2999999523162842, \"fake_logits\": -1.2999999523162842, \"g_loss\": 1.5410083532333374, \"d_real_loss\": 1.5410083532333374, \"d_fake_loss\": 0.24100841581821442}, {\"real_logits\": -1.2000000476837158, \"fake_logits\": -1.2000000476837158, \"g_loss\": 1.4632824659347534, \"d_real_loss\": 1.4632824659347534, \"d_fake_loss\": 0.26328244805336}, {\"real_logits\": -1.100000023841858, \"fake_logits\": -1.100000023841858, \"g_loss\": 1.3873353004455566, \"d_real_loss\": 1.3873353004455566, \"d_fake_loss\": 0.2873353064060211}, {\"real_logits\": -1.0, \"fake_logits\": -1.0, \"g_loss\": 1.31326162815094, \"d_real_loss\": 1.31326162815094, \"d_fake_loss\": 0.31326165795326233}, {\"real_logits\": -0.8999999761581421, \"fake_logits\": -0.8999999761581421, \"g_loss\": 1.2411539554595947, \"d_real_loss\": 1.2411539554595947, \"d_fake_loss\": 0.34115391969680786}, {\"real_logits\": -0.800000011920929, \"fake_logits\": -0.800000011920929, \"g_loss\": 1.1711006164550781, \"d_real_loss\": 1.1711006164550781, \"d_fake_loss\": 0.37110063433647156}, {\"real_logits\": -0.699999988079071, \"fake_logits\": -0.699999988079071, \"g_loss\": 1.1031861305236816, \"d_real_loss\": 1.1031861305236816, \"d_fake_loss\": 0.4031860828399658}, {\"real_logits\": -0.6000000238418579, \"fake_logits\": -0.6000000238418579, \"g_loss\": 1.0374879837036133, \"d_real_loss\": 1.0374879837036133, \"d_fake_loss\": 0.43748798966407776}, {\"real_logits\": -0.5, \"fake_logits\": -0.5, \"g_loss\": 0.9740769863128662, \"d_real_loss\": 0.9740769863128662, \"d_fake_loss\": 0.4740769863128662}, {\"real_logits\": -0.4000000059604645, \"fake_logits\": -0.4000000059604645, \"g_loss\": 0.9130152463912964, \"d_real_loss\": 0.9130152463912964, \"d_fake_loss\": 0.5130152702331543}, {\"real_logits\": -0.30000001192092896, \"fake_logits\": -0.30000001192092896, \"g_loss\": 0.8543552756309509, \"d_real_loss\": 0.8543552756309509, \"d_fake_loss\": 0.554355263710022}, {\"real_logits\": -0.20000000298023224, \"fake_logits\": -0.20000000298023224, \"g_loss\": 0.7981389164924622, \"d_real_loss\": 0.7981389164924622, \"d_fake_loss\": 0.5981389284133911}, {\"real_logits\": -0.10000000149011612, \"fake_logits\": -0.10000000149011612, \"g_loss\": 0.7443966865539551, \"d_real_loss\": 0.7443966865539551, \"d_fake_loss\": 0.6443966627120972}, {\"real_logits\": 0.0, \"fake_logits\": 0.0, \"g_loss\": 0.6931471824645996, \"d_real_loss\": 0.6931471824645996, \"d_fake_loss\": 0.6931471824645996}, {\"real_logits\": 0.10000000149011612, \"fake_logits\": 0.10000000149011612, \"g_loss\": 0.6443966627120972, \"d_real_loss\": 0.6443966627120972, \"d_fake_loss\": 0.7443966865539551}, {\"real_logits\": 0.20000000298023224, \"fake_logits\": 0.20000000298023224, \"g_loss\": 0.5981389284133911, \"d_real_loss\": 0.5981389284133911, \"d_fake_loss\": 0.7981389164924622}, {\"real_logits\": 0.30000001192092896, \"fake_logits\": 0.30000001192092896, \"g_loss\": 0.554355263710022, \"d_real_loss\": 0.554355263710022, \"d_fake_loss\": 0.8543552756309509}, {\"real_logits\": 0.4000000059604645, \"fake_logits\": 0.4000000059604645, \"g_loss\": 0.5130152702331543, \"d_real_loss\": 0.5130152702331543, \"d_fake_loss\": 0.9130152463912964}, {\"real_logits\": 0.5, \"fake_logits\": 0.5, \"g_loss\": 0.4740769863128662, \"d_real_loss\": 0.4740769863128662, \"d_fake_loss\": 0.9740769863128662}, {\"real_logits\": 0.6000000238418579, \"fake_logits\": 0.6000000238418579, \"g_loss\": 0.43748798966407776, \"d_real_loss\": 0.43748798966407776, \"d_fake_loss\": 1.0374879837036133}, {\"real_logits\": 0.699999988079071, \"fake_logits\": 0.699999988079071, \"g_loss\": 0.4031860828399658, \"d_real_loss\": 0.4031860828399658, \"d_fake_loss\": 1.1031861305236816}, {\"real_logits\": 0.800000011920929, \"fake_logits\": 0.800000011920929, \"g_loss\": 0.37110063433647156, \"d_real_loss\": 0.37110063433647156, \"d_fake_loss\": 1.1711006164550781}, {\"real_logits\": 0.8999999761581421, \"fake_logits\": 0.8999999761581421, \"g_loss\": 0.34115391969680786, \"d_real_loss\": 0.34115391969680786, \"d_fake_loss\": 1.2411539554595947}, {\"real_logits\": 1.0, \"fake_logits\": 1.0, \"g_loss\": 0.31326165795326233, \"d_real_loss\": 0.31326165795326233, \"d_fake_loss\": 1.31326162815094}, {\"real_logits\": 1.100000023841858, \"fake_logits\": 1.100000023841858, \"g_loss\": 0.2873353064060211, \"d_real_loss\": 0.2873353064060211, \"d_fake_loss\": 1.3873353004455566}, {\"real_logits\": 1.2000000476837158, \"fake_logits\": 1.2000000476837158, \"g_loss\": 0.26328244805336, \"d_real_loss\": 0.26328244805336, \"d_fake_loss\": 1.4632824659347534}, {\"real_logits\": 1.2999999523162842, \"fake_logits\": 1.2999999523162842, \"g_loss\": 0.24100841581821442, \"d_real_loss\": 0.24100841581821442, \"d_fake_loss\": 1.5410083532333374}, {\"real_logits\": 1.399999976158142, \"fake_logits\": 1.399999976158142, \"g_loss\": 0.22041738033294678, \"d_real_loss\": 0.22041738033294678, \"d_fake_loss\": 1.6204173564910889}, {\"real_logits\": 1.5, \"fake_logits\": 1.5, \"g_loss\": 0.2014133334159851, \"d_real_loss\": 0.2014133334159851, \"d_fake_loss\": 1.7014133930206299}, {\"real_logits\": 1.600000023841858, \"fake_logits\": 1.600000023841858, \"g_loss\": 0.18390077352523804, \"d_real_loss\": 0.18390077352523804, \"d_fake_loss\": 1.7839007377624512}, {\"real_logits\": 1.7000000476837158, \"fake_logits\": 1.7000000476837158, \"g_loss\": 0.16778598725795746, \"d_real_loss\": 0.16778598725795746, \"d_fake_loss\": 1.8677860498428345}, {\"real_logits\": 1.7999999523162842, \"fake_logits\": 1.7999999523162842, \"g_loss\": 0.15297766029834747, \"d_real_loss\": 0.15297766029834747, \"d_fake_loss\": 1.9529776573181152}, {\"real_logits\": 1.899999976158142, \"fake_logits\": 1.899999976158142, \"g_loss\": 0.13938669860363007, \"d_real_loss\": 0.13938669860363007, \"d_fake_loss\": 2.039386749267578}, {\"real_logits\": 2.0, \"fake_logits\": 2.0, \"g_loss\": 0.12692804634571075, \"d_real_loss\": 0.12692804634571075, \"d_fake_loss\": 2.1269280910491943}, {\"real_logits\": 2.0999999046325684, \"fake_logits\": 2.0999999046325684, \"g_loss\": 0.11551952362060547, \"d_real_loss\": 0.11551952362060547, \"d_fake_loss\": 2.215519428253174}, {\"real_logits\": 2.200000047683716, \"fake_logits\": 2.200000047683716, \"g_loss\": 0.10508329421281815, \"d_real_loss\": 0.10508329421281815, \"d_fake_loss\": 2.3050832748413086}, {\"real_logits\": 2.299999952316284, \"fake_logits\": 2.299999952316284, \"g_loss\": 0.0955454483628273, \"d_real_loss\": 0.0955454483628273, \"d_fake_loss\": 2.395545482635498}, {\"real_logits\": 2.4000000953674316, \"fake_logits\": 2.4000000953674316, \"g_loss\": 0.08683611452579498, \"d_real_loss\": 0.08683611452579498, \"d_fake_loss\": 2.4868361949920654}, {\"real_logits\": 2.5, \"fake_logits\": 2.5, \"g_loss\": 0.07888974994421005, \"d_real_loss\": 0.07888974994421005, \"d_fake_loss\": 2.578889846801758}, {\"real_logits\": 2.5999999046325684, \"fake_logits\": 2.5999999046325684, \"g_loss\": 0.07164470106363297, \"d_real_loss\": 0.07164470106363297, \"d_fake_loss\": 2.671644687652588}, {\"real_logits\": 2.700000047683716, \"fake_logits\": 2.700000047683716, \"g_loss\": 0.06504359841346741, \"d_real_loss\": 0.06504359841346741, \"d_fake_loss\": 2.7650437355041504}, {\"real_logits\": 2.799999952316284, \"fake_logits\": 2.799999952316284, \"g_loss\": 0.059032849967479706, \"d_real_loss\": 0.059032849967479706, \"d_fake_loss\": 2.8590328693389893}, {\"real_logits\": 2.9000000953674316, \"fake_logits\": 2.9000000953674316, \"g_loss\": 0.053562749177217484, \"d_real_loss\": 0.053562749177217484, \"d_fake_loss\": 2.9535627365112305}]}}, {\"mode\": \"vega-lite\"});\n",
       "</script>"
      ],
      "text/plain": [
       "alt.VConcatChart(...)"
      ]
     },
     "execution_count": null,
     "metadata": {},
     "output_type": "execute_result"
    }
   ],
   "source": [
    "#server\n",
    "draw_adversarial_loss_fns(\"gan\")"
   ]
  },
  {
   "cell_type": "markdown",
   "metadata": {},
   "source": [
    "### LSGAN"
   ]
  },
  {
   "cell_type": "code",
   "execution_count": null,
   "metadata": {},
   "outputs": [],
   "source": [
    "#export\n",
    "def get_lsgan_loss_fns(reduction=\"mean\", on_gpu=False, **kwargs):\n",
    "    mse = partial(F.mse_loss, reduction=reduction)\n",
    "\n",
    "    def g_loss_fn(fake_logits, on_gpu=False):\n",
    "        return mse(fake_logits, ones_like(fake_logits, on_gpu))\n",
    "    \n",
    "    def d_loss_fn(real_logits, fake_logits, on_gpu=False):\n",
    "        real_loss = mse(real_logits, ones_like(real_logits, on_gpu))\n",
    "        fake_loss = mse(fake_logits, zeros_like(fake_logits, on_gpu))\n",
    "        return real_loss, fake_loss\n",
    "\n",
    "    return g_loss_fn, d_loss_fn"
   ]
  },
  {
   "cell_type": "code",
   "execution_count": null,
   "metadata": {},
   "outputs": [
    {
     "data": {
      "text/html": [
       "\n",
       "<div id=\"altair-viz-3b4fc9dd6cde4a62ba401c1dd9204955\"></div>\n",
       "<script type=\"text/javascript\">\n",
       "  (function(spec, embedOpt){\n",
       "    const outputDiv = document.getElementById(\"altair-viz-3b4fc9dd6cde4a62ba401c1dd9204955\");\n",
       "    const paths = {\n",
       "      \"vega\": \"https://cdn.jsdelivr.net/npm//vega@5?noext\",\n",
       "      \"vega-lib\": \"https://cdn.jsdelivr.net/npm//vega-lib?noext\",\n",
       "      \"vega-lite\": \"https://cdn.jsdelivr.net/npm//vega-lite@4.0.2?noext\",\n",
       "      \"vega-embed\": \"https://cdn.jsdelivr.net/npm//vega-embed@6?noext\",\n",
       "    };\n",
       "\n",
       "    function loadScript(lib) {\n",
       "      return new Promise(function(resolve, reject) {\n",
       "        var s = document.createElement('script');\n",
       "        s.src = paths[lib];\n",
       "        s.async = true;\n",
       "        s.onload = () => resolve(paths[lib]);\n",
       "        s.onerror = () => reject(`Error loading script: ${paths[lib]}`);\n",
       "        document.getElementsByTagName(\"head\")[0].appendChild(s);\n",
       "      });\n",
       "    }\n",
       "\n",
       "    function showError(err) {\n",
       "      outputDiv.innerHTML = `<div class=\"error\" style=\"color:red;\">${err}</div>`;\n",
       "      throw err;\n",
       "    }\n",
       "\n",
       "    function displayChart(vegaEmbed) {\n",
       "      vegaEmbed(outputDiv, spec, embedOpt)\n",
       "        .catch(err => showError(`Javascript Error: ${err.message}<br>This usually means there's a typo in your chart specification. See the javascript console for the full traceback.`));\n",
       "    }\n",
       "\n",
       "    if(typeof define === \"function\" && define.amd) {\n",
       "      requirejs.config({paths});\n",
       "      require([\"vega-embed\"], displayChart, err => showError(`Error loading script: ${err.message}`));\n",
       "    } else if (typeof vegaEmbed === \"function\") {\n",
       "      displayChart(vegaEmbed);\n",
       "    } else {\n",
       "      loadScript(\"vega\")\n",
       "        .then(() => loadScript(\"vega-lite\"))\n",
       "        .then(() => loadScript(\"vega-embed\"))\n",
       "        .catch(showError)\n",
       "        .then(() => displayChart(vegaEmbed));\n",
       "    }\n",
       "  })({\"config\": {\"view\": {\"continuousWidth\": 400, \"continuousHeight\": 300}}, \"vconcat\": [{\"hconcat\": [{\"mark\": \"line\", \"encoding\": {\"x\": {\"type\": \"quantitative\", \"field\": \"real_logits\"}, \"y\": {\"type\": \"quantitative\", \"field\": \"d_real_loss\"}}, \"title\": \"[D] real loss\"}, {\"mark\": \"line\", \"encoding\": {\"x\": {\"type\": \"quantitative\", \"field\": \"fake_logits\"}, \"y\": {\"type\": \"quantitative\", \"field\": \"d_fake_loss\"}}, \"title\": \"[D] fake loss\"}], \"title\": \"lsgan\"}, {\"mark\": \"line\", \"encoding\": {\"x\": {\"type\": \"quantitative\", \"field\": \"fake_logits\"}, \"y\": {\"type\": \"quantitative\", \"field\": \"g_loss\"}}, \"title\": \"[G] loss\"}], \"data\": {\"name\": \"data-f6ec6af41ee3af8ceac104ecc7325cd8\"}, \"$schema\": \"https://vega.github.io/schema/vega-lite/v4.0.2.json\", \"datasets\": {\"data-f6ec6af41ee3af8ceac104ecc7325cd8\": [{\"real_logits\": -3.0, \"fake_logits\": -3.0, \"g_loss\": 16.0, \"d_real_loss\": 16.0, \"d_fake_loss\": 9.0}, {\"real_logits\": -2.9000000953674316, \"fake_logits\": -2.9000000953674316, \"g_loss\": 15.210000991821289, \"d_real_loss\": 15.210000991821289, \"d_fake_loss\": 8.410000801086426}, {\"real_logits\": -2.799999952316284, \"fake_logits\": -2.799999952316284, \"g_loss\": 14.4399995803833, \"d_real_loss\": 14.4399995803833, \"d_fake_loss\": 7.839999675750732}, {\"real_logits\": -2.700000047683716, \"fake_logits\": -2.700000047683716, \"g_loss\": 13.690000534057617, \"d_real_loss\": 13.690000534057617, \"d_fake_loss\": 7.2900004386901855}, {\"real_logits\": -2.5999999046325684, \"fake_logits\": -2.5999999046325684, \"g_loss\": 12.959999084472656, \"d_real_loss\": 12.959999084472656, \"d_fake_loss\": 6.7599992752075195}, {\"real_logits\": -2.5, \"fake_logits\": -2.5, \"g_loss\": 12.25, \"d_real_loss\": 12.25, \"d_fake_loss\": 6.25}, {\"real_logits\": -2.4000000953674316, \"fake_logits\": -2.4000000953674316, \"g_loss\": 11.5600004196167, \"d_real_loss\": 11.5600004196167, \"d_fake_loss\": 5.760000228881836}, {\"real_logits\": -2.299999952316284, \"fake_logits\": -2.299999952316284, \"g_loss\": 10.889999389648438, \"d_real_loss\": 10.889999389648438, \"d_fake_loss\": 5.289999961853027}, {\"real_logits\": -2.200000047683716, \"fake_logits\": -2.200000047683716, \"g_loss\": 10.24000072479248, \"d_real_loss\": 10.24000072479248, \"d_fake_loss\": 4.840000152587891}, {\"real_logits\": -2.0999999046325684, \"fake_logits\": -2.0999999046325684, \"g_loss\": 9.609999656677246, \"d_real_loss\": 9.609999656677246, \"d_fake_loss\": 4.409999370574951}, {\"real_logits\": -2.0, \"fake_logits\": -2.0, \"g_loss\": 9.0, \"d_real_loss\": 9.0, \"d_fake_loss\": 4.0}, {\"real_logits\": -1.899999976158142, \"fake_logits\": -1.899999976158142, \"g_loss\": 8.410000801086426, \"d_real_loss\": 8.410000801086426, \"d_fake_loss\": 3.609999895095825}, {\"real_logits\": -1.7999999523162842, \"fake_logits\": -1.7999999523162842, \"g_loss\": 7.839999675750732, \"d_real_loss\": 7.839999675750732, \"d_fake_loss\": 3.239999771118164}, {\"real_logits\": -1.7000000476837158, \"fake_logits\": -1.7000000476837158, \"g_loss\": 7.2900004386901855, \"d_real_loss\": 7.2900004386901855, \"d_fake_loss\": 2.890000104904175}, {\"real_logits\": -1.600000023841858, \"fake_logits\": -1.600000023841858, \"g_loss\": 6.7599992752075195, \"d_real_loss\": 6.7599992752075195, \"d_fake_loss\": 2.56000018119812}, {\"real_logits\": -1.5, \"fake_logits\": -1.5, \"g_loss\": 6.25, \"d_real_loss\": 6.25, \"d_fake_loss\": 2.25}, {\"real_logits\": -1.399999976158142, \"fake_logits\": -1.399999976158142, \"g_loss\": 5.760000228881836, \"d_real_loss\": 5.760000228881836, \"d_fake_loss\": 1.959999918937683}, {\"real_logits\": -1.2999999523162842, \"fake_logits\": -1.2999999523162842, \"g_loss\": 5.289999961853027, \"d_real_loss\": 5.289999961853027, \"d_fake_loss\": 1.6899998188018799}, {\"real_logits\": -1.2000000476837158, \"fake_logits\": -1.2000000476837158, \"g_loss\": 4.840000152587891, \"d_real_loss\": 4.840000152587891, \"d_fake_loss\": 1.440000057220459}, {\"real_logits\": -1.100000023841858, \"fake_logits\": -1.100000023841858, \"g_loss\": 4.409999370574951, \"d_real_loss\": 4.409999370574951, \"d_fake_loss\": 1.2100000381469727}, {\"real_logits\": -1.0, \"fake_logits\": -1.0, \"g_loss\": 4.0, \"d_real_loss\": 4.0, \"d_fake_loss\": 1.0}, {\"real_logits\": -0.8999999761581421, \"fake_logits\": -0.8999999761581421, \"g_loss\": 3.609999895095825, \"d_real_loss\": 3.609999895095825, \"d_fake_loss\": 0.809999942779541}, {\"real_logits\": -0.800000011920929, \"fake_logits\": -0.800000011920929, \"g_loss\": 3.239999771118164, \"d_real_loss\": 3.239999771118164, \"d_fake_loss\": 0.64000004529953}, {\"real_logits\": -0.699999988079071, \"fake_logits\": -0.699999988079071, \"g_loss\": 2.890000104904175, \"d_real_loss\": 2.890000104904175, \"d_fake_loss\": 0.4899999797344208}, {\"real_logits\": -0.6000000238418579, \"fake_logits\": -0.6000000238418579, \"g_loss\": 2.56000018119812, \"d_real_loss\": 2.56000018119812, \"d_fake_loss\": 0.36000001430511475}, {\"real_logits\": -0.5, \"fake_logits\": -0.5, \"g_loss\": 2.25, \"d_real_loss\": 2.25, \"d_fake_loss\": 0.25}, {\"real_logits\": -0.4000000059604645, \"fake_logits\": -0.4000000059604645, \"g_loss\": 1.959999918937683, \"d_real_loss\": 1.959999918937683, \"d_fake_loss\": 0.1600000113248825}, {\"real_logits\": -0.30000001192092896, \"fake_logits\": -0.30000001192092896, \"g_loss\": 1.6899998188018799, \"d_real_loss\": 1.6899998188018799, \"d_fake_loss\": 0.09000000357627869}, {\"real_logits\": -0.20000000298023224, \"fake_logits\": -0.20000000298023224, \"g_loss\": 1.440000057220459, \"d_real_loss\": 1.440000057220459, \"d_fake_loss\": 0.04000000283122063}, {\"real_logits\": -0.10000000149011612, \"fake_logits\": -0.10000000149011612, \"g_loss\": 1.2100000381469727, \"d_real_loss\": 1.2100000381469727, \"d_fake_loss\": 0.010000000707805157}, {\"real_logits\": 0.0, \"fake_logits\": 0.0, \"g_loss\": 1.0, \"d_real_loss\": 1.0, \"d_fake_loss\": 0.0}, {\"real_logits\": 0.10000000149011612, \"fake_logits\": 0.10000000149011612, \"g_loss\": 0.809999942779541, \"d_real_loss\": 0.809999942779541, \"d_fake_loss\": 0.010000000707805157}, {\"real_logits\": 0.20000000298023224, \"fake_logits\": 0.20000000298023224, \"g_loss\": 0.64000004529953, \"d_real_loss\": 0.64000004529953, \"d_fake_loss\": 0.04000000283122063}, {\"real_logits\": 0.30000001192092896, \"fake_logits\": 0.30000001192092896, \"g_loss\": 0.4899999797344208, \"d_real_loss\": 0.4899999797344208, \"d_fake_loss\": 0.09000000357627869}, {\"real_logits\": 0.4000000059604645, \"fake_logits\": 0.4000000059604645, \"g_loss\": 0.36000001430511475, \"d_real_loss\": 0.36000001430511475, \"d_fake_loss\": 0.1600000113248825}, {\"real_logits\": 0.5, \"fake_logits\": 0.5, \"g_loss\": 0.25, \"d_real_loss\": 0.25, \"d_fake_loss\": 0.25}, {\"real_logits\": 0.6000000238418579, \"fake_logits\": 0.6000000238418579, \"g_loss\": 0.15999998152256012, \"d_real_loss\": 0.15999998152256012, \"d_fake_loss\": 0.36000001430511475}, {\"real_logits\": 0.699999988079071, \"fake_logits\": 0.699999988079071, \"g_loss\": 0.09000000357627869, \"d_real_loss\": 0.09000000357627869, \"d_fake_loss\": 0.4899999797344208}, {\"real_logits\": 0.800000011920929, \"fake_logits\": 0.800000011920929, \"g_loss\": 0.03999999538064003, \"d_real_loss\": 0.03999999538064003, \"d_fake_loss\": 0.64000004529953}, {\"real_logits\": 0.8999999761581421, \"fake_logits\": 0.8999999761581421, \"g_loss\": 0.010000004433095455, \"d_real_loss\": 0.010000004433095455, \"d_fake_loss\": 0.809999942779541}, {\"real_logits\": 1.0, \"fake_logits\": 1.0, \"g_loss\": 0.0, \"d_real_loss\": 0.0, \"d_fake_loss\": 1.0}, {\"real_logits\": 1.100000023841858, \"fake_logits\": 1.100000023841858, \"g_loss\": 0.010000004433095455, \"d_real_loss\": 0.010000004433095455, \"d_fake_loss\": 1.2100000381469727}, {\"real_logits\": 1.2000000476837158, \"fake_logits\": 1.2000000476837158, \"g_loss\": 0.04000001773238182, \"d_real_loss\": 0.04000001773238182, \"d_fake_loss\": 1.440000057220459}, {\"real_logits\": 1.2999999523162842, \"fake_logits\": 1.2999999523162842, \"g_loss\": 0.0899999737739563, \"d_real_loss\": 0.0899999737739563, \"d_fake_loss\": 1.6899998188018799}, {\"real_logits\": 1.399999976158142, \"fake_logits\": 1.399999976158142, \"g_loss\": 0.15999998152256012, \"d_real_loss\": 0.15999998152256012, \"d_fake_loss\": 1.959999918937683}, {\"real_logits\": 1.5, \"fake_logits\": 1.5, \"g_loss\": 0.25, \"d_real_loss\": 0.25, \"d_fake_loss\": 2.25}, {\"real_logits\": 1.600000023841858, \"fake_logits\": 1.600000023841858, \"g_loss\": 0.36000001430511475, \"d_real_loss\": 0.36000001430511475, \"d_fake_loss\": 2.56000018119812}, {\"real_logits\": 1.7000000476837158, \"fake_logits\": 1.7000000476837158, \"g_loss\": 0.49000006914138794, \"d_real_loss\": 0.49000006914138794, \"d_fake_loss\": 2.890000104904175}, {\"real_logits\": 1.7999999523162842, \"fake_logits\": 1.7999999523162842, \"g_loss\": 0.6399999260902405, \"d_real_loss\": 0.6399999260902405, \"d_fake_loss\": 3.239999771118164}, {\"real_logits\": 1.899999976158142, \"fake_logits\": 1.899999976158142, \"g_loss\": 0.809999942779541, \"d_real_loss\": 0.809999942779541, \"d_fake_loss\": 3.609999895095825}, {\"real_logits\": 2.0, \"fake_logits\": 2.0, \"g_loss\": 1.0, \"d_real_loss\": 1.0, \"d_fake_loss\": 4.0}, {\"real_logits\": 2.0999999046325684, \"fake_logits\": 2.0999999046325684, \"g_loss\": 1.2099997997283936, \"d_real_loss\": 1.2099997997283936, \"d_fake_loss\": 4.409999370574951}, {\"real_logits\": 2.200000047683716, \"fake_logits\": 2.200000047683716, \"g_loss\": 1.440000057220459, \"d_real_loss\": 1.440000057220459, \"d_fake_loss\": 4.840000152587891}, {\"real_logits\": 2.299999952316284, \"fake_logits\": 2.299999952316284, \"g_loss\": 1.6899998188018799, \"d_real_loss\": 1.6899998188018799, \"d_fake_loss\": 5.289999961853027}, {\"real_logits\": 2.4000000953674316, \"fake_logits\": 2.4000000953674316, \"g_loss\": 1.9600002765655518, \"d_real_loss\": 1.9600002765655518, \"d_fake_loss\": 5.760000228881836}, {\"real_logits\": 2.5, \"fake_logits\": 2.5, \"g_loss\": 2.25, \"d_real_loss\": 2.25, \"d_fake_loss\": 6.25}, {\"real_logits\": 2.5999999046325684, \"fake_logits\": 2.5999999046325684, \"g_loss\": 2.559999704360962, \"d_real_loss\": 2.559999704360962, \"d_fake_loss\": 6.7599992752075195}, {\"real_logits\": 2.700000047683716, \"fake_logits\": 2.700000047683716, \"g_loss\": 2.890000104904175, \"d_real_loss\": 2.890000104904175, \"d_fake_loss\": 7.2900004386901855}, {\"real_logits\": 2.799999952316284, \"fake_logits\": 2.799999952316284, \"g_loss\": 3.239999771118164, \"d_real_loss\": 3.239999771118164, \"d_fake_loss\": 7.839999675750732}, {\"real_logits\": 2.9000000953674316, \"fake_logits\": 2.9000000953674316, \"g_loss\": 3.6100003719329834, \"d_real_loss\": 3.6100003719329834, \"d_fake_loss\": 8.410000801086426}]}}, {\"mode\": \"vega-lite\"});\n",
       "</script>"
      ],
      "text/plain": [
       "alt.VConcatChart(...)"
      ]
     },
     "execution_count": null,
     "metadata": {},
     "output_type": "execute_result"
    }
   ],
   "source": [
    "#server\n",
    "draw_adversarial_loss_fns(\"lsgan\")"
   ]
  },
  {
   "cell_type": "markdown",
   "metadata": {},
   "source": [
    "## WGAN"
   ]
  },
  {
   "cell_type": "code",
   "execution_count": null,
   "metadata": {},
   "outputs": [],
   "source": [
    "#export\n",
    "def get_wgan_loss_fns(reduction=\"mean\", **kwargs):\n",
    "    \n",
    "    def g_loss_fn(fake_logits):\n",
    "        fake_loss = -fake_logits\n",
    "        if reduction == \"mean\":\n",
    "            fake_loss = fake_loss.mean()\n",
    "        return fake_loss\n",
    "    \n",
    "    def d_loss_fn(real_logits, fake_logits):\n",
    "        real_loss = -real_logits\n",
    "        fake_loss = fake_logits\n",
    "        if reduction == \"mean\":\n",
    "            real_loss = real_loss.mean()\n",
    "            fake_loss = fake_loss.mean()\n",
    "            \n",
    "        return real_loss, fake_loss\n",
    "\n",
    "    return g_loss_fn, d_loss_fn"
   ]
  },
  {
   "cell_type": "code",
   "execution_count": null,
   "metadata": {},
   "outputs": [
    {
     "data": {
      "text/html": [
       "\n",
       "<div id=\"altair-viz-7ca9557e75164daaa6015da0ee349fa2\"></div>\n",
       "<script type=\"text/javascript\">\n",
       "  (function(spec, embedOpt){\n",
       "    const outputDiv = document.getElementById(\"altair-viz-7ca9557e75164daaa6015da0ee349fa2\");\n",
       "    const paths = {\n",
       "      \"vega\": \"https://cdn.jsdelivr.net/npm//vega@5?noext\",\n",
       "      \"vega-lib\": \"https://cdn.jsdelivr.net/npm//vega-lib?noext\",\n",
       "      \"vega-lite\": \"https://cdn.jsdelivr.net/npm//vega-lite@4.0.2?noext\",\n",
       "      \"vega-embed\": \"https://cdn.jsdelivr.net/npm//vega-embed@6?noext\",\n",
       "    };\n",
       "\n",
       "    function loadScript(lib) {\n",
       "      return new Promise(function(resolve, reject) {\n",
       "        var s = document.createElement('script');\n",
       "        s.src = paths[lib];\n",
       "        s.async = true;\n",
       "        s.onload = () => resolve(paths[lib]);\n",
       "        s.onerror = () => reject(`Error loading script: ${paths[lib]}`);\n",
       "        document.getElementsByTagName(\"head\")[0].appendChild(s);\n",
       "      });\n",
       "    }\n",
       "\n",
       "    function showError(err) {\n",
       "      outputDiv.innerHTML = `<div class=\"error\" style=\"color:red;\">${err}</div>`;\n",
       "      throw err;\n",
       "    }\n",
       "\n",
       "    function displayChart(vegaEmbed) {\n",
       "      vegaEmbed(outputDiv, spec, embedOpt)\n",
       "        .catch(err => showError(`Javascript Error: ${err.message}<br>This usually means there's a typo in your chart specification. See the javascript console for the full traceback.`));\n",
       "    }\n",
       "\n",
       "    if(typeof define === \"function\" && define.amd) {\n",
       "      requirejs.config({paths});\n",
       "      require([\"vega-embed\"], displayChart, err => showError(`Error loading script: ${err.message}`));\n",
       "    } else if (typeof vegaEmbed === \"function\") {\n",
       "      displayChart(vegaEmbed);\n",
       "    } else {\n",
       "      loadScript(\"vega\")\n",
       "        .then(() => loadScript(\"vega-lite\"))\n",
       "        .then(() => loadScript(\"vega-embed\"))\n",
       "        .catch(showError)\n",
       "        .then(() => displayChart(vegaEmbed));\n",
       "    }\n",
       "  })({\"config\": {\"view\": {\"continuousWidth\": 400, \"continuousHeight\": 300}}, \"vconcat\": [{\"hconcat\": [{\"mark\": \"line\", \"encoding\": {\"x\": {\"type\": \"quantitative\", \"field\": \"real_logits\"}, \"y\": {\"type\": \"quantitative\", \"field\": \"d_real_loss\"}}, \"title\": \"[D] real loss\"}, {\"mark\": \"line\", \"encoding\": {\"x\": {\"type\": \"quantitative\", \"field\": \"fake_logits\"}, \"y\": {\"type\": \"quantitative\", \"field\": \"d_fake_loss\"}}, \"title\": \"[D] fake loss\"}], \"title\": \"wgan\"}, {\"mark\": \"line\", \"encoding\": {\"x\": {\"type\": \"quantitative\", \"field\": \"fake_logits\"}, \"y\": {\"type\": \"quantitative\", \"field\": \"g_loss\"}}, \"title\": \"[G] loss\"}], \"data\": {\"name\": \"data-7d8759f20ce346f60e73bebe03bf28b9\"}, \"$schema\": \"https://vega.github.io/schema/vega-lite/v4.0.2.json\", \"datasets\": {\"data-7d8759f20ce346f60e73bebe03bf28b9\": [{\"real_logits\": -3.0, \"fake_logits\": -3.0, \"g_loss\": 3.0, \"d_real_loss\": 3.0, \"d_fake_loss\": -3.0}, {\"real_logits\": -2.9000000953674316, \"fake_logits\": -2.9000000953674316, \"g_loss\": 2.9000000953674316, \"d_real_loss\": 2.9000000953674316, \"d_fake_loss\": -2.9000000953674316}, {\"real_logits\": -2.799999952316284, \"fake_logits\": -2.799999952316284, \"g_loss\": 2.799999952316284, \"d_real_loss\": 2.799999952316284, \"d_fake_loss\": -2.799999952316284}, {\"real_logits\": -2.700000047683716, \"fake_logits\": -2.700000047683716, \"g_loss\": 2.700000047683716, \"d_real_loss\": 2.700000047683716, \"d_fake_loss\": -2.700000047683716}, {\"real_logits\": -2.5999999046325684, \"fake_logits\": -2.5999999046325684, \"g_loss\": 2.5999999046325684, \"d_real_loss\": 2.5999999046325684, \"d_fake_loss\": -2.5999999046325684}, {\"real_logits\": -2.5, \"fake_logits\": -2.5, \"g_loss\": 2.5, \"d_real_loss\": 2.5, \"d_fake_loss\": -2.5}, {\"real_logits\": -2.4000000953674316, \"fake_logits\": -2.4000000953674316, \"g_loss\": 2.4000000953674316, \"d_real_loss\": 2.4000000953674316, \"d_fake_loss\": -2.4000000953674316}, {\"real_logits\": -2.299999952316284, \"fake_logits\": -2.299999952316284, \"g_loss\": 2.299999952316284, \"d_real_loss\": 2.299999952316284, \"d_fake_loss\": -2.299999952316284}, {\"real_logits\": -2.200000047683716, \"fake_logits\": -2.200000047683716, \"g_loss\": 2.200000047683716, \"d_real_loss\": 2.200000047683716, \"d_fake_loss\": -2.200000047683716}, {\"real_logits\": -2.0999999046325684, \"fake_logits\": -2.0999999046325684, \"g_loss\": 2.0999999046325684, \"d_real_loss\": 2.0999999046325684, \"d_fake_loss\": -2.0999999046325684}, {\"real_logits\": -2.0, \"fake_logits\": -2.0, \"g_loss\": 2.0, \"d_real_loss\": 2.0, \"d_fake_loss\": -2.0}, {\"real_logits\": -1.899999976158142, \"fake_logits\": -1.899999976158142, \"g_loss\": 1.899999976158142, \"d_real_loss\": 1.899999976158142, \"d_fake_loss\": -1.899999976158142}, {\"real_logits\": -1.7999999523162842, \"fake_logits\": -1.7999999523162842, \"g_loss\": 1.7999999523162842, \"d_real_loss\": 1.7999999523162842, \"d_fake_loss\": -1.7999999523162842}, {\"real_logits\": -1.7000000476837158, \"fake_logits\": -1.7000000476837158, \"g_loss\": 1.7000000476837158, \"d_real_loss\": 1.7000000476837158, \"d_fake_loss\": -1.7000000476837158}, {\"real_logits\": -1.600000023841858, \"fake_logits\": -1.600000023841858, \"g_loss\": 1.600000023841858, \"d_real_loss\": 1.600000023841858, \"d_fake_loss\": -1.600000023841858}, {\"real_logits\": -1.5, \"fake_logits\": -1.5, \"g_loss\": 1.5, \"d_real_loss\": 1.5, \"d_fake_loss\": -1.5}, {\"real_logits\": -1.399999976158142, \"fake_logits\": -1.399999976158142, \"g_loss\": 1.399999976158142, \"d_real_loss\": 1.399999976158142, \"d_fake_loss\": -1.399999976158142}, {\"real_logits\": -1.2999999523162842, \"fake_logits\": -1.2999999523162842, \"g_loss\": 1.2999999523162842, \"d_real_loss\": 1.2999999523162842, \"d_fake_loss\": -1.2999999523162842}, {\"real_logits\": -1.2000000476837158, \"fake_logits\": -1.2000000476837158, \"g_loss\": 1.2000000476837158, \"d_real_loss\": 1.2000000476837158, \"d_fake_loss\": -1.2000000476837158}, {\"real_logits\": -1.100000023841858, \"fake_logits\": -1.100000023841858, \"g_loss\": 1.100000023841858, \"d_real_loss\": 1.100000023841858, \"d_fake_loss\": -1.100000023841858}, {\"real_logits\": -1.0, \"fake_logits\": -1.0, \"g_loss\": 1.0, \"d_real_loss\": 1.0, \"d_fake_loss\": -1.0}, {\"real_logits\": -0.8999999761581421, \"fake_logits\": -0.8999999761581421, \"g_loss\": 0.8999999761581421, \"d_real_loss\": 0.8999999761581421, \"d_fake_loss\": -0.8999999761581421}, {\"real_logits\": -0.800000011920929, \"fake_logits\": -0.800000011920929, \"g_loss\": 0.800000011920929, \"d_real_loss\": 0.800000011920929, \"d_fake_loss\": -0.800000011920929}, {\"real_logits\": -0.699999988079071, \"fake_logits\": -0.699999988079071, \"g_loss\": 0.699999988079071, \"d_real_loss\": 0.699999988079071, \"d_fake_loss\": -0.699999988079071}, {\"real_logits\": -0.6000000238418579, \"fake_logits\": -0.6000000238418579, \"g_loss\": 0.6000000238418579, \"d_real_loss\": 0.6000000238418579, \"d_fake_loss\": -0.6000000238418579}, {\"real_logits\": -0.5, \"fake_logits\": -0.5, \"g_loss\": 0.5, \"d_real_loss\": 0.5, \"d_fake_loss\": -0.5}, {\"real_logits\": -0.4000000059604645, \"fake_logits\": -0.4000000059604645, \"g_loss\": 0.4000000059604645, \"d_real_loss\": 0.4000000059604645, \"d_fake_loss\": -0.4000000059604645}, {\"real_logits\": -0.30000001192092896, \"fake_logits\": -0.30000001192092896, \"g_loss\": 0.30000001192092896, \"d_real_loss\": 0.30000001192092896, \"d_fake_loss\": -0.30000001192092896}, {\"real_logits\": -0.20000000298023224, \"fake_logits\": -0.20000000298023224, \"g_loss\": 0.20000000298023224, \"d_real_loss\": 0.20000000298023224, \"d_fake_loss\": -0.20000000298023224}, {\"real_logits\": -0.10000000149011612, \"fake_logits\": -0.10000000149011612, \"g_loss\": 0.10000000149011612, \"d_real_loss\": 0.10000000149011612, \"d_fake_loss\": -0.10000000149011612}, {\"real_logits\": 0.0, \"fake_logits\": 0.0, \"g_loss\": -0.0, \"d_real_loss\": -0.0, \"d_fake_loss\": 0.0}, {\"real_logits\": 0.10000000149011612, \"fake_logits\": 0.10000000149011612, \"g_loss\": -0.10000000149011612, \"d_real_loss\": -0.10000000149011612, \"d_fake_loss\": 0.10000000149011612}, {\"real_logits\": 0.20000000298023224, \"fake_logits\": 0.20000000298023224, \"g_loss\": -0.20000000298023224, \"d_real_loss\": -0.20000000298023224, \"d_fake_loss\": 0.20000000298023224}, {\"real_logits\": 0.30000001192092896, \"fake_logits\": 0.30000001192092896, \"g_loss\": -0.30000001192092896, \"d_real_loss\": -0.30000001192092896, \"d_fake_loss\": 0.30000001192092896}, {\"real_logits\": 0.4000000059604645, \"fake_logits\": 0.4000000059604645, \"g_loss\": -0.4000000059604645, \"d_real_loss\": -0.4000000059604645, \"d_fake_loss\": 0.4000000059604645}, {\"real_logits\": 0.5, \"fake_logits\": 0.5, \"g_loss\": -0.5, \"d_real_loss\": -0.5, \"d_fake_loss\": 0.5}, {\"real_logits\": 0.6000000238418579, \"fake_logits\": 0.6000000238418579, \"g_loss\": -0.6000000238418579, \"d_real_loss\": -0.6000000238418579, \"d_fake_loss\": 0.6000000238418579}, {\"real_logits\": 0.699999988079071, \"fake_logits\": 0.699999988079071, \"g_loss\": -0.699999988079071, \"d_real_loss\": -0.699999988079071, \"d_fake_loss\": 0.699999988079071}, {\"real_logits\": 0.800000011920929, \"fake_logits\": 0.800000011920929, \"g_loss\": -0.800000011920929, \"d_real_loss\": -0.800000011920929, \"d_fake_loss\": 0.800000011920929}, {\"real_logits\": 0.8999999761581421, \"fake_logits\": 0.8999999761581421, \"g_loss\": -0.8999999761581421, \"d_real_loss\": -0.8999999761581421, \"d_fake_loss\": 0.8999999761581421}, {\"real_logits\": 1.0, \"fake_logits\": 1.0, \"g_loss\": -1.0, \"d_real_loss\": -1.0, \"d_fake_loss\": 1.0}, {\"real_logits\": 1.100000023841858, \"fake_logits\": 1.100000023841858, \"g_loss\": -1.100000023841858, \"d_real_loss\": -1.100000023841858, \"d_fake_loss\": 1.100000023841858}, {\"real_logits\": 1.2000000476837158, \"fake_logits\": 1.2000000476837158, \"g_loss\": -1.2000000476837158, \"d_real_loss\": -1.2000000476837158, \"d_fake_loss\": 1.2000000476837158}, {\"real_logits\": 1.2999999523162842, \"fake_logits\": 1.2999999523162842, \"g_loss\": -1.2999999523162842, \"d_real_loss\": -1.2999999523162842, \"d_fake_loss\": 1.2999999523162842}, {\"real_logits\": 1.399999976158142, \"fake_logits\": 1.399999976158142, \"g_loss\": -1.399999976158142, \"d_real_loss\": -1.399999976158142, \"d_fake_loss\": 1.399999976158142}, {\"real_logits\": 1.5, \"fake_logits\": 1.5, \"g_loss\": -1.5, \"d_real_loss\": -1.5, \"d_fake_loss\": 1.5}, {\"real_logits\": 1.600000023841858, \"fake_logits\": 1.600000023841858, \"g_loss\": -1.600000023841858, \"d_real_loss\": -1.600000023841858, \"d_fake_loss\": 1.600000023841858}, {\"real_logits\": 1.7000000476837158, \"fake_logits\": 1.7000000476837158, \"g_loss\": -1.7000000476837158, \"d_real_loss\": -1.7000000476837158, \"d_fake_loss\": 1.7000000476837158}, {\"real_logits\": 1.7999999523162842, \"fake_logits\": 1.7999999523162842, \"g_loss\": -1.7999999523162842, \"d_real_loss\": -1.7999999523162842, \"d_fake_loss\": 1.7999999523162842}, {\"real_logits\": 1.899999976158142, \"fake_logits\": 1.899999976158142, \"g_loss\": -1.899999976158142, \"d_real_loss\": -1.899999976158142, \"d_fake_loss\": 1.899999976158142}, {\"real_logits\": 2.0, \"fake_logits\": 2.0, \"g_loss\": -2.0, \"d_real_loss\": -2.0, \"d_fake_loss\": 2.0}, {\"real_logits\": 2.0999999046325684, \"fake_logits\": 2.0999999046325684, \"g_loss\": -2.0999999046325684, \"d_real_loss\": -2.0999999046325684, \"d_fake_loss\": 2.0999999046325684}, {\"real_logits\": 2.200000047683716, \"fake_logits\": 2.200000047683716, \"g_loss\": -2.200000047683716, \"d_real_loss\": -2.200000047683716, \"d_fake_loss\": 2.200000047683716}, {\"real_logits\": 2.299999952316284, \"fake_logits\": 2.299999952316284, \"g_loss\": -2.299999952316284, \"d_real_loss\": -2.299999952316284, \"d_fake_loss\": 2.299999952316284}, {\"real_logits\": 2.4000000953674316, \"fake_logits\": 2.4000000953674316, \"g_loss\": -2.4000000953674316, \"d_real_loss\": -2.4000000953674316, \"d_fake_loss\": 2.4000000953674316}, {\"real_logits\": 2.5, \"fake_logits\": 2.5, \"g_loss\": -2.5, \"d_real_loss\": -2.5, \"d_fake_loss\": 2.5}, {\"real_logits\": 2.5999999046325684, \"fake_logits\": 2.5999999046325684, \"g_loss\": -2.5999999046325684, \"d_real_loss\": -2.5999999046325684, \"d_fake_loss\": 2.5999999046325684}, {\"real_logits\": 2.700000047683716, \"fake_logits\": 2.700000047683716, \"g_loss\": -2.700000047683716, \"d_real_loss\": -2.700000047683716, \"d_fake_loss\": 2.700000047683716}, {\"real_logits\": 2.799999952316284, \"fake_logits\": 2.799999952316284, \"g_loss\": -2.799999952316284, \"d_real_loss\": -2.799999952316284, \"d_fake_loss\": 2.799999952316284}, {\"real_logits\": 2.9000000953674316, \"fake_logits\": 2.9000000953674316, \"g_loss\": -2.9000000953674316, \"d_real_loss\": -2.9000000953674316, \"d_fake_loss\": 2.9000000953674316}]}}, {\"mode\": \"vega-lite\"});\n",
       "</script>"
      ],
      "text/plain": [
       "alt.VConcatChart(...)"
      ]
     },
     "execution_count": null,
     "metadata": {},
     "output_type": "execute_result"
    }
   ],
   "source": [
    "#server\n",
    "draw_adversarial_loss_fns(\"wgan\")"
   ]
  },
  {
   "cell_type": "markdown",
   "metadata": {},
   "source": [
    "## Hinge Loss related"
   ]
  },
  {
   "cell_type": "code",
   "execution_count": null,
   "metadata": {},
   "outputs": [],
   "source": [
    "#export\n",
    "def get_hinge_loss_fns(version=\"geometric_gan\", reduction=\"mean\", on_gpu=False, **kwargs):\n",
    "    \n",
    "    if version == \"geometric_gan\":\n",
    "        def g_loss_fn(fake_logits, reduction=\"mean\", **kwargs):\n",
    "            fake_loss = -fake_logits\n",
    "            if reduction == \"mean\":\n",
    "                fake_loss = fake_loss.mean()\n",
    "            return fake_loss\n",
    "    else:\n",
    "        def g_loss_fn(fake_logits, reduction=\"mean\", on_gpu=False):\n",
    "            fake_loss = torch.max(1 - fake_logits, zeros_like(fake_logits, on_gpu))\n",
    "            if reduction == \"mean\":\n",
    "                fake_loss = fake_loss.mean()\n",
    "            return fake_loss\n",
    "        \n",
    "    def d_loss_fn(real_logits, fake_logits, reduction=\"mean\", on_gpu=False):\n",
    "        real_loss = torch.max(1 - real_logits, zeros_like(real_logits, on_gpu))\n",
    "        fake_loss = torch.max(1 + fake_logits, zeros_like(fake_logits, on_gpu))\n",
    "        if reduction == \"mean\":\n",
    "            real_loss = real_loss.mean()\n",
    "            fake_loss = fake_loss.mean()\n",
    "        \n",
    "        return real_loss, fake_loss\n",
    "\n",
    "    return partial(g_loss_fn, reduction=reduction), partial(d_loss_fn, reduction=reduction)"
   ]
  },
  {
   "cell_type": "code",
   "execution_count": null,
   "metadata": {},
   "outputs": [
    {
     "data": {
      "text/html": [
       "\n",
       "<div id=\"altair-viz-594ced43292d4ec19f87622153120611\"></div>\n",
       "<script type=\"text/javascript\">\n",
       "  (function(spec, embedOpt){\n",
       "    const outputDiv = document.getElementById(\"altair-viz-594ced43292d4ec19f87622153120611\");\n",
       "    const paths = {\n",
       "      \"vega\": \"https://cdn.jsdelivr.net/npm//vega@5?noext\",\n",
       "      \"vega-lib\": \"https://cdn.jsdelivr.net/npm//vega-lib?noext\",\n",
       "      \"vega-lite\": \"https://cdn.jsdelivr.net/npm//vega-lite@4.0.2?noext\",\n",
       "      \"vega-embed\": \"https://cdn.jsdelivr.net/npm//vega-embed@6?noext\",\n",
       "    };\n",
       "\n",
       "    function loadScript(lib) {\n",
       "      return new Promise(function(resolve, reject) {\n",
       "        var s = document.createElement('script');\n",
       "        s.src = paths[lib];\n",
       "        s.async = true;\n",
       "        s.onload = () => resolve(paths[lib]);\n",
       "        s.onerror = () => reject(`Error loading script: ${paths[lib]}`);\n",
       "        document.getElementsByTagName(\"head\")[0].appendChild(s);\n",
       "      });\n",
       "    }\n",
       "\n",
       "    function showError(err) {\n",
       "      outputDiv.innerHTML = `<div class=\"error\" style=\"color:red;\">${err}</div>`;\n",
       "      throw err;\n",
       "    }\n",
       "\n",
       "    function displayChart(vegaEmbed) {\n",
       "      vegaEmbed(outputDiv, spec, embedOpt)\n",
       "        .catch(err => showError(`Javascript Error: ${err.message}<br>This usually means there's a typo in your chart specification. See the javascript console for the full traceback.`));\n",
       "    }\n",
       "\n",
       "    if(typeof define === \"function\" && define.amd) {\n",
       "      requirejs.config({paths});\n",
       "      require([\"vega-embed\"], displayChart, err => showError(`Error loading script: ${err.message}`));\n",
       "    } else if (typeof vegaEmbed === \"function\") {\n",
       "      displayChart(vegaEmbed);\n",
       "    } else {\n",
       "      loadScript(\"vega\")\n",
       "        .then(() => loadScript(\"vega-lite\"))\n",
       "        .then(() => loadScript(\"vega-embed\"))\n",
       "        .catch(showError)\n",
       "        .then(() => displayChart(vegaEmbed));\n",
       "    }\n",
       "  })({\"config\": {\"view\": {\"continuousWidth\": 400, \"continuousHeight\": 300}}, \"vconcat\": [{\"hconcat\": [{\"mark\": \"line\", \"encoding\": {\"x\": {\"type\": \"quantitative\", \"field\": \"real_logits\"}, \"y\": {\"type\": \"quantitative\", \"field\": \"d_real_loss\"}}, \"title\": \"[D] real loss\"}, {\"mark\": \"line\", \"encoding\": {\"x\": {\"type\": \"quantitative\", \"field\": \"fake_logits\"}, \"y\": {\"type\": \"quantitative\", \"field\": \"d_fake_loss\"}}, \"title\": \"[D] fake loss\"}], \"title\": \"geometric_gan\"}, {\"mark\": \"line\", \"encoding\": {\"x\": {\"type\": \"quantitative\", \"field\": \"fake_logits\"}, \"y\": {\"type\": \"quantitative\", \"field\": \"g_loss\"}}, \"title\": \"[G] loss\"}], \"data\": {\"name\": \"data-454ba76407d3af5db024511d22e5cce6\"}, \"$schema\": \"https://vega.github.io/schema/vega-lite/v4.0.2.json\", \"datasets\": {\"data-454ba76407d3af5db024511d22e5cce6\": [{\"real_logits\": -3.0, \"fake_logits\": -3.0, \"g_loss\": 3.0, \"d_real_loss\": 4.0, \"d_fake_loss\": 0.0}, {\"real_logits\": -2.9000000953674316, \"fake_logits\": -2.9000000953674316, \"g_loss\": 2.9000000953674316, \"d_real_loss\": 3.9000000953674316, \"d_fake_loss\": 0.0}, {\"real_logits\": -2.799999952316284, \"fake_logits\": -2.799999952316284, \"g_loss\": 2.799999952316284, \"d_real_loss\": 3.799999952316284, \"d_fake_loss\": 0.0}, {\"real_logits\": -2.700000047683716, \"fake_logits\": -2.700000047683716, \"g_loss\": 2.700000047683716, \"d_real_loss\": 3.700000047683716, \"d_fake_loss\": 0.0}, {\"real_logits\": -2.5999999046325684, \"fake_logits\": -2.5999999046325684, \"g_loss\": 2.5999999046325684, \"d_real_loss\": 3.5999999046325684, \"d_fake_loss\": 0.0}, {\"real_logits\": -2.5, \"fake_logits\": -2.5, \"g_loss\": 2.5, \"d_real_loss\": 3.5, \"d_fake_loss\": 0.0}, {\"real_logits\": -2.4000000953674316, \"fake_logits\": -2.4000000953674316, \"g_loss\": 2.4000000953674316, \"d_real_loss\": 3.4000000953674316, \"d_fake_loss\": 0.0}, {\"real_logits\": -2.299999952316284, \"fake_logits\": -2.299999952316284, \"g_loss\": 2.299999952316284, \"d_real_loss\": 3.299999952316284, \"d_fake_loss\": 0.0}, {\"real_logits\": -2.200000047683716, \"fake_logits\": -2.200000047683716, \"g_loss\": 2.200000047683716, \"d_real_loss\": 3.200000047683716, \"d_fake_loss\": 0.0}, {\"real_logits\": -2.0999999046325684, \"fake_logits\": -2.0999999046325684, \"g_loss\": 2.0999999046325684, \"d_real_loss\": 3.0999999046325684, \"d_fake_loss\": 0.0}, {\"real_logits\": -2.0, \"fake_logits\": -2.0, \"g_loss\": 2.0, \"d_real_loss\": 3.0, \"d_fake_loss\": 0.0}, {\"real_logits\": -1.899999976158142, \"fake_logits\": -1.899999976158142, \"g_loss\": 1.899999976158142, \"d_real_loss\": 2.9000000953674316, \"d_fake_loss\": 0.0}, {\"real_logits\": -1.7999999523162842, \"fake_logits\": -1.7999999523162842, \"g_loss\": 1.7999999523162842, \"d_real_loss\": 2.799999952316284, \"d_fake_loss\": 0.0}, {\"real_logits\": -1.7000000476837158, \"fake_logits\": -1.7000000476837158, \"g_loss\": 1.7000000476837158, \"d_real_loss\": 2.700000047683716, \"d_fake_loss\": 0.0}, {\"real_logits\": -1.600000023841858, \"fake_logits\": -1.600000023841858, \"g_loss\": 1.600000023841858, \"d_real_loss\": 2.5999999046325684, \"d_fake_loss\": 0.0}, {\"real_logits\": -1.5, \"fake_logits\": -1.5, \"g_loss\": 1.5, \"d_real_loss\": 2.5, \"d_fake_loss\": 0.0}, {\"real_logits\": -1.399999976158142, \"fake_logits\": -1.399999976158142, \"g_loss\": 1.399999976158142, \"d_real_loss\": 2.4000000953674316, \"d_fake_loss\": 0.0}, {\"real_logits\": -1.2999999523162842, \"fake_logits\": -1.2999999523162842, \"g_loss\": 1.2999999523162842, \"d_real_loss\": 2.299999952316284, \"d_fake_loss\": 0.0}, {\"real_logits\": -1.2000000476837158, \"fake_logits\": -1.2000000476837158, \"g_loss\": 1.2000000476837158, \"d_real_loss\": 2.200000047683716, \"d_fake_loss\": 0.0}, {\"real_logits\": -1.100000023841858, \"fake_logits\": -1.100000023841858, \"g_loss\": 1.100000023841858, \"d_real_loss\": 2.0999999046325684, \"d_fake_loss\": 0.0}, {\"real_logits\": -1.0, \"fake_logits\": -1.0, \"g_loss\": 1.0, \"d_real_loss\": 2.0, \"d_fake_loss\": 0.0}, {\"real_logits\": -0.8999999761581421, \"fake_logits\": -0.8999999761581421, \"g_loss\": 0.8999999761581421, \"d_real_loss\": 1.899999976158142, \"d_fake_loss\": 0.10000002384185791}, {\"real_logits\": -0.800000011920929, \"fake_logits\": -0.800000011920929, \"g_loss\": 0.800000011920929, \"d_real_loss\": 1.7999999523162842, \"d_fake_loss\": 0.19999998807907104}, {\"real_logits\": -0.699999988079071, \"fake_logits\": -0.699999988079071, \"g_loss\": 0.699999988079071, \"d_real_loss\": 1.7000000476837158, \"d_fake_loss\": 0.30000001192092896}, {\"real_logits\": -0.6000000238418579, \"fake_logits\": -0.6000000238418579, \"g_loss\": 0.6000000238418579, \"d_real_loss\": 1.600000023841858, \"d_fake_loss\": 0.3999999761581421}, {\"real_logits\": -0.5, \"fake_logits\": -0.5, \"g_loss\": 0.5, \"d_real_loss\": 1.5, \"d_fake_loss\": 0.5}, {\"real_logits\": -0.4000000059604645, \"fake_logits\": -0.4000000059604645, \"g_loss\": 0.4000000059604645, \"d_real_loss\": 1.399999976158142, \"d_fake_loss\": 0.6000000238418579}, {\"real_logits\": -0.30000001192092896, \"fake_logits\": -0.30000001192092896, \"g_loss\": 0.30000001192092896, \"d_real_loss\": 1.2999999523162842, \"d_fake_loss\": 0.699999988079071}, {\"real_logits\": -0.20000000298023224, \"fake_logits\": -0.20000000298023224, \"g_loss\": 0.20000000298023224, \"d_real_loss\": 1.2000000476837158, \"d_fake_loss\": 0.800000011920929}, {\"real_logits\": -0.10000000149011612, \"fake_logits\": -0.10000000149011612, \"g_loss\": 0.10000000149011612, \"d_real_loss\": 1.100000023841858, \"d_fake_loss\": 0.8999999761581421}, {\"real_logits\": 0.0, \"fake_logits\": 0.0, \"g_loss\": -0.0, \"d_real_loss\": 1.0, \"d_fake_loss\": 1.0}, {\"real_logits\": 0.10000000149011612, \"fake_logits\": 0.10000000149011612, \"g_loss\": -0.10000000149011612, \"d_real_loss\": 0.8999999761581421, \"d_fake_loss\": 1.100000023841858}, {\"real_logits\": 0.20000000298023224, \"fake_logits\": 0.20000000298023224, \"g_loss\": -0.20000000298023224, \"d_real_loss\": 0.800000011920929, \"d_fake_loss\": 1.2000000476837158}, {\"real_logits\": 0.30000001192092896, \"fake_logits\": 0.30000001192092896, \"g_loss\": -0.30000001192092896, \"d_real_loss\": 0.699999988079071, \"d_fake_loss\": 1.2999999523162842}, {\"real_logits\": 0.4000000059604645, \"fake_logits\": 0.4000000059604645, \"g_loss\": -0.4000000059604645, \"d_real_loss\": 0.6000000238418579, \"d_fake_loss\": 1.399999976158142}, {\"real_logits\": 0.5, \"fake_logits\": 0.5, \"g_loss\": -0.5, \"d_real_loss\": 0.5, \"d_fake_loss\": 1.5}, {\"real_logits\": 0.6000000238418579, \"fake_logits\": 0.6000000238418579, \"g_loss\": -0.6000000238418579, \"d_real_loss\": 0.3999999761581421, \"d_fake_loss\": 1.600000023841858}, {\"real_logits\": 0.699999988079071, \"fake_logits\": 0.699999988079071, \"g_loss\": -0.699999988079071, \"d_real_loss\": 0.30000001192092896, \"d_fake_loss\": 1.7000000476837158}, {\"real_logits\": 0.800000011920929, \"fake_logits\": 0.800000011920929, \"g_loss\": -0.800000011920929, \"d_real_loss\": 0.19999998807907104, \"d_fake_loss\": 1.7999999523162842}, {\"real_logits\": 0.8999999761581421, \"fake_logits\": 0.8999999761581421, \"g_loss\": -0.8999999761581421, \"d_real_loss\": 0.10000002384185791, \"d_fake_loss\": 1.899999976158142}, {\"real_logits\": 1.0, \"fake_logits\": 1.0, \"g_loss\": -1.0, \"d_real_loss\": 0.0, \"d_fake_loss\": 2.0}, {\"real_logits\": 1.100000023841858, \"fake_logits\": 1.100000023841858, \"g_loss\": -1.100000023841858, \"d_real_loss\": 0.0, \"d_fake_loss\": 2.0999999046325684}, {\"real_logits\": 1.2000000476837158, \"fake_logits\": 1.2000000476837158, \"g_loss\": -1.2000000476837158, \"d_real_loss\": 0.0, \"d_fake_loss\": 2.200000047683716}, {\"real_logits\": 1.2999999523162842, \"fake_logits\": 1.2999999523162842, \"g_loss\": -1.2999999523162842, \"d_real_loss\": 0.0, \"d_fake_loss\": 2.299999952316284}, {\"real_logits\": 1.399999976158142, \"fake_logits\": 1.399999976158142, \"g_loss\": -1.399999976158142, \"d_real_loss\": 0.0, \"d_fake_loss\": 2.4000000953674316}, {\"real_logits\": 1.5, \"fake_logits\": 1.5, \"g_loss\": -1.5, \"d_real_loss\": 0.0, \"d_fake_loss\": 2.5}, {\"real_logits\": 1.600000023841858, \"fake_logits\": 1.600000023841858, \"g_loss\": -1.600000023841858, \"d_real_loss\": 0.0, \"d_fake_loss\": 2.5999999046325684}, {\"real_logits\": 1.7000000476837158, \"fake_logits\": 1.7000000476837158, \"g_loss\": -1.7000000476837158, \"d_real_loss\": 0.0, \"d_fake_loss\": 2.700000047683716}, {\"real_logits\": 1.7999999523162842, \"fake_logits\": 1.7999999523162842, \"g_loss\": -1.7999999523162842, \"d_real_loss\": 0.0, \"d_fake_loss\": 2.799999952316284}, {\"real_logits\": 1.899999976158142, \"fake_logits\": 1.899999976158142, \"g_loss\": -1.899999976158142, \"d_real_loss\": 0.0, \"d_fake_loss\": 2.9000000953674316}, {\"real_logits\": 2.0, \"fake_logits\": 2.0, \"g_loss\": -2.0, \"d_real_loss\": 0.0, \"d_fake_loss\": 3.0}, {\"real_logits\": 2.0999999046325684, \"fake_logits\": 2.0999999046325684, \"g_loss\": -2.0999999046325684, \"d_real_loss\": 0.0, \"d_fake_loss\": 3.0999999046325684}, {\"real_logits\": 2.200000047683716, \"fake_logits\": 2.200000047683716, \"g_loss\": -2.200000047683716, \"d_real_loss\": 0.0, \"d_fake_loss\": 3.200000047683716}, {\"real_logits\": 2.299999952316284, \"fake_logits\": 2.299999952316284, \"g_loss\": -2.299999952316284, \"d_real_loss\": 0.0, \"d_fake_loss\": 3.299999952316284}, {\"real_logits\": 2.4000000953674316, \"fake_logits\": 2.4000000953674316, \"g_loss\": -2.4000000953674316, \"d_real_loss\": 0.0, \"d_fake_loss\": 3.4000000953674316}, {\"real_logits\": 2.5, \"fake_logits\": 2.5, \"g_loss\": -2.5, \"d_real_loss\": 0.0, \"d_fake_loss\": 3.5}, {\"real_logits\": 2.5999999046325684, \"fake_logits\": 2.5999999046325684, \"g_loss\": -2.5999999046325684, \"d_real_loss\": 0.0, \"d_fake_loss\": 3.5999999046325684}, {\"real_logits\": 2.700000047683716, \"fake_logits\": 2.700000047683716, \"g_loss\": -2.700000047683716, \"d_real_loss\": 0.0, \"d_fake_loss\": 3.700000047683716}, {\"real_logits\": 2.799999952316284, \"fake_logits\": 2.799999952316284, \"g_loss\": -2.799999952316284, \"d_real_loss\": 0.0, \"d_fake_loss\": 3.799999952316284}, {\"real_logits\": 2.9000000953674316, \"fake_logits\": 2.9000000953674316, \"g_loss\": -2.9000000953674316, \"d_real_loss\": 0.0, \"d_fake_loss\": 3.9000000953674316}]}}, {\"mode\": \"vega-lite\"});\n",
       "</script>"
      ],
      "text/plain": [
       "alt.VConcatChart(...)"
      ]
     },
     "execution_count": null,
     "metadata": {},
     "output_type": "execute_result"
    }
   ],
   "source": [
    "#server\n",
    "draw_adversarial_loss_fns(\"geometric_gan\")"
   ]
  },
  {
   "cell_type": "markdown",
   "metadata": {},
   "source": [
    "## SNGAN\n",
    "\n",
    "Optimizing these objectives is equivalent tominimizing the so-called reverse KL divergence. It's a kind of hinge loss."
   ]
  },
  {
   "cell_type": "code",
   "execution_count": null,
   "metadata": {},
   "outputs": [],
   "source": [
    "#export\n",
    "def get_sngan_loss_fns(reduction=\"mean\", on_gpu=False, **kwargs):\n",
    "    \n",
    "    def g_loss_fn(fake_logits, reduction=\"mean\", on_gpu=False):\n",
    "        fake_loss = -fake_logits\n",
    "        if reduction == \"mean\":\n",
    "            fake_loss = fake_loss.mean()\n",
    "        return fake_loss\n",
    "        \n",
    "    def d_loss_fn(real_logits, fake_logits, reduction=\"mean\", on_gpu=False):\n",
    "        real_loss = torch.min(-1 + real_logits, zeros_like(real_logits, on_gpu))\n",
    "        fake_loss = torch.min(-1 - fake_logits, zeros_like(fake_logits, on_gpu))\n",
    "        if reduction == \"mean\":\n",
    "            real_loss = real_loss.mean()\n",
    "            fake_loss = fake_loss.mean()\n",
    "        \n",
    "        return real_loss, fake_loss\n",
    "\n",
    "    return partial(g_loss_fn, reduction=reduction), partial(d_loss_fn, reduction=reduction)"
   ]
  },
  {
   "cell_type": "code",
   "execution_count": null,
   "metadata": {},
   "outputs": [
    {
     "data": {
      "text/html": [
       "\n",
       "<div id=\"altair-viz-1168ae24be2b4241a3557ec9d21e1866\"></div>\n",
       "<script type=\"text/javascript\">\n",
       "  (function(spec, embedOpt){\n",
       "    const outputDiv = document.getElementById(\"altair-viz-1168ae24be2b4241a3557ec9d21e1866\");\n",
       "    const paths = {\n",
       "      \"vega\": \"https://cdn.jsdelivr.net/npm//vega@5?noext\",\n",
       "      \"vega-lib\": \"https://cdn.jsdelivr.net/npm//vega-lib?noext\",\n",
       "      \"vega-lite\": \"https://cdn.jsdelivr.net/npm//vega-lite@4.0.2?noext\",\n",
       "      \"vega-embed\": \"https://cdn.jsdelivr.net/npm//vega-embed@6?noext\",\n",
       "    };\n",
       "\n",
       "    function loadScript(lib) {\n",
       "      return new Promise(function(resolve, reject) {\n",
       "        var s = document.createElement('script');\n",
       "        s.src = paths[lib];\n",
       "        s.async = true;\n",
       "        s.onload = () => resolve(paths[lib]);\n",
       "        s.onerror = () => reject(`Error loading script: ${paths[lib]}`);\n",
       "        document.getElementsByTagName(\"head\")[0].appendChild(s);\n",
       "      });\n",
       "    }\n",
       "\n",
       "    function showError(err) {\n",
       "      outputDiv.innerHTML = `<div class=\"error\" style=\"color:red;\">${err}</div>`;\n",
       "      throw err;\n",
       "    }\n",
       "\n",
       "    function displayChart(vegaEmbed) {\n",
       "      vegaEmbed(outputDiv, spec, embedOpt)\n",
       "        .catch(err => showError(`Javascript Error: ${err.message}<br>This usually means there's a typo in your chart specification. See the javascript console for the full traceback.`));\n",
       "    }\n",
       "\n",
       "    if(typeof define === \"function\" && define.amd) {\n",
       "      requirejs.config({paths});\n",
       "      require([\"vega-embed\"], displayChart, err => showError(`Error loading script: ${err.message}`));\n",
       "    } else if (typeof vegaEmbed === \"function\") {\n",
       "      displayChart(vegaEmbed);\n",
       "    } else {\n",
       "      loadScript(\"vega\")\n",
       "        .then(() => loadScript(\"vega-lite\"))\n",
       "        .then(() => loadScript(\"vega-embed\"))\n",
       "        .catch(showError)\n",
       "        .then(() => displayChart(vegaEmbed));\n",
       "    }\n",
       "  })({\"config\": {\"view\": {\"continuousWidth\": 400, \"continuousHeight\": 300}}, \"vconcat\": [{\"hconcat\": [{\"mark\": \"line\", \"encoding\": {\"x\": {\"type\": \"quantitative\", \"field\": \"real_logits\"}, \"y\": {\"type\": \"quantitative\", \"field\": \"d_real_loss\"}}, \"title\": \"[D] real loss\"}, {\"mark\": \"line\", \"encoding\": {\"x\": {\"type\": \"quantitative\", \"field\": \"fake_logits\"}, \"y\": {\"type\": \"quantitative\", \"field\": \"d_fake_loss\"}}, \"title\": \"[D] fake loss\"}], \"title\": \"sngan\"}, {\"mark\": \"line\", \"encoding\": {\"x\": {\"type\": \"quantitative\", \"field\": \"fake_logits\"}, \"y\": {\"type\": \"quantitative\", \"field\": \"g_loss\"}}, \"title\": \"[G] loss\"}], \"data\": {\"name\": \"data-f20e704a0616ec88e868126510271f8c\"}, \"$schema\": \"https://vega.github.io/schema/vega-lite/v4.0.2.json\", \"datasets\": {\"data-f20e704a0616ec88e868126510271f8c\": [{\"real_logits\": -3.0, \"fake_logits\": -3.0, \"g_loss\": 3.0, \"d_real_loss\": -4.0, \"d_fake_loss\": 0.0}, {\"real_logits\": -2.9000000953674316, \"fake_logits\": -2.9000000953674316, \"g_loss\": 2.9000000953674316, \"d_real_loss\": -3.9000000953674316, \"d_fake_loss\": 0.0}, {\"real_logits\": -2.799999952316284, \"fake_logits\": -2.799999952316284, \"g_loss\": 2.799999952316284, \"d_real_loss\": -3.799999952316284, \"d_fake_loss\": 0.0}, {\"real_logits\": -2.700000047683716, \"fake_logits\": -2.700000047683716, \"g_loss\": 2.700000047683716, \"d_real_loss\": -3.700000047683716, \"d_fake_loss\": 0.0}, {\"real_logits\": -2.5999999046325684, \"fake_logits\": -2.5999999046325684, \"g_loss\": 2.5999999046325684, \"d_real_loss\": -3.5999999046325684, \"d_fake_loss\": 0.0}, {\"real_logits\": -2.5, \"fake_logits\": -2.5, \"g_loss\": 2.5, \"d_real_loss\": -3.5, \"d_fake_loss\": 0.0}, {\"real_logits\": -2.4000000953674316, \"fake_logits\": -2.4000000953674316, \"g_loss\": 2.4000000953674316, \"d_real_loss\": -3.4000000953674316, \"d_fake_loss\": 0.0}, {\"real_logits\": -2.299999952316284, \"fake_logits\": -2.299999952316284, \"g_loss\": 2.299999952316284, \"d_real_loss\": -3.299999952316284, \"d_fake_loss\": 0.0}, {\"real_logits\": -2.200000047683716, \"fake_logits\": -2.200000047683716, \"g_loss\": 2.200000047683716, \"d_real_loss\": -3.200000047683716, \"d_fake_loss\": 0.0}, {\"real_logits\": -2.0999999046325684, \"fake_logits\": -2.0999999046325684, \"g_loss\": 2.0999999046325684, \"d_real_loss\": -3.0999999046325684, \"d_fake_loss\": 0.0}, {\"real_logits\": -2.0, \"fake_logits\": -2.0, \"g_loss\": 2.0, \"d_real_loss\": -3.0, \"d_fake_loss\": 0.0}, {\"real_logits\": -1.899999976158142, \"fake_logits\": -1.899999976158142, \"g_loss\": 1.899999976158142, \"d_real_loss\": -2.9000000953674316, \"d_fake_loss\": 0.0}, {\"real_logits\": -1.7999999523162842, \"fake_logits\": -1.7999999523162842, \"g_loss\": 1.7999999523162842, \"d_real_loss\": -2.799999952316284, \"d_fake_loss\": 0.0}, {\"real_logits\": -1.7000000476837158, \"fake_logits\": -1.7000000476837158, \"g_loss\": 1.7000000476837158, \"d_real_loss\": -2.700000047683716, \"d_fake_loss\": 0.0}, {\"real_logits\": -1.600000023841858, \"fake_logits\": -1.600000023841858, \"g_loss\": 1.600000023841858, \"d_real_loss\": -2.5999999046325684, \"d_fake_loss\": 0.0}, {\"real_logits\": -1.5, \"fake_logits\": -1.5, \"g_loss\": 1.5, \"d_real_loss\": -2.5, \"d_fake_loss\": 0.0}, {\"real_logits\": -1.399999976158142, \"fake_logits\": -1.399999976158142, \"g_loss\": 1.399999976158142, \"d_real_loss\": -2.4000000953674316, \"d_fake_loss\": 0.0}, {\"real_logits\": -1.2999999523162842, \"fake_logits\": -1.2999999523162842, \"g_loss\": 1.2999999523162842, \"d_real_loss\": -2.299999952316284, \"d_fake_loss\": 0.0}, {\"real_logits\": -1.2000000476837158, \"fake_logits\": -1.2000000476837158, \"g_loss\": 1.2000000476837158, \"d_real_loss\": -2.200000047683716, \"d_fake_loss\": 0.0}, {\"real_logits\": -1.100000023841858, \"fake_logits\": -1.100000023841858, \"g_loss\": 1.100000023841858, \"d_real_loss\": -2.0999999046325684, \"d_fake_loss\": 0.0}, {\"real_logits\": -1.0, \"fake_logits\": -1.0, \"g_loss\": 1.0, \"d_real_loss\": -2.0, \"d_fake_loss\": 0.0}, {\"real_logits\": -0.8999999761581421, \"fake_logits\": -0.8999999761581421, \"g_loss\": 0.8999999761581421, \"d_real_loss\": -1.899999976158142, \"d_fake_loss\": -0.10000002384185791}, {\"real_logits\": -0.800000011920929, \"fake_logits\": -0.800000011920929, \"g_loss\": 0.800000011920929, \"d_real_loss\": -1.7999999523162842, \"d_fake_loss\": -0.19999998807907104}, {\"real_logits\": -0.699999988079071, \"fake_logits\": -0.699999988079071, \"g_loss\": 0.699999988079071, \"d_real_loss\": -1.7000000476837158, \"d_fake_loss\": -0.30000001192092896}, {\"real_logits\": -0.6000000238418579, \"fake_logits\": -0.6000000238418579, \"g_loss\": 0.6000000238418579, \"d_real_loss\": -1.600000023841858, \"d_fake_loss\": -0.3999999761581421}, {\"real_logits\": -0.5, \"fake_logits\": -0.5, \"g_loss\": 0.5, \"d_real_loss\": -1.5, \"d_fake_loss\": -0.5}, {\"real_logits\": -0.4000000059604645, \"fake_logits\": -0.4000000059604645, \"g_loss\": 0.4000000059604645, \"d_real_loss\": -1.399999976158142, \"d_fake_loss\": -0.6000000238418579}, {\"real_logits\": -0.30000001192092896, \"fake_logits\": -0.30000001192092896, \"g_loss\": 0.30000001192092896, \"d_real_loss\": -1.2999999523162842, \"d_fake_loss\": -0.699999988079071}, {\"real_logits\": -0.20000000298023224, \"fake_logits\": -0.20000000298023224, \"g_loss\": 0.20000000298023224, \"d_real_loss\": -1.2000000476837158, \"d_fake_loss\": -0.800000011920929}, {\"real_logits\": -0.10000000149011612, \"fake_logits\": -0.10000000149011612, \"g_loss\": 0.10000000149011612, \"d_real_loss\": -1.100000023841858, \"d_fake_loss\": -0.8999999761581421}, {\"real_logits\": 0.0, \"fake_logits\": 0.0, \"g_loss\": -0.0, \"d_real_loss\": -1.0, \"d_fake_loss\": -1.0}, {\"real_logits\": 0.10000000149011612, \"fake_logits\": 0.10000000149011612, \"g_loss\": -0.10000000149011612, \"d_real_loss\": -0.8999999761581421, \"d_fake_loss\": -1.100000023841858}, {\"real_logits\": 0.20000000298023224, \"fake_logits\": 0.20000000298023224, \"g_loss\": -0.20000000298023224, \"d_real_loss\": -0.800000011920929, \"d_fake_loss\": -1.2000000476837158}, {\"real_logits\": 0.30000001192092896, \"fake_logits\": 0.30000001192092896, \"g_loss\": -0.30000001192092896, \"d_real_loss\": -0.699999988079071, \"d_fake_loss\": -1.2999999523162842}, {\"real_logits\": 0.4000000059604645, \"fake_logits\": 0.4000000059604645, \"g_loss\": -0.4000000059604645, \"d_real_loss\": -0.6000000238418579, \"d_fake_loss\": -1.399999976158142}, {\"real_logits\": 0.5, \"fake_logits\": 0.5, \"g_loss\": -0.5, \"d_real_loss\": -0.5, \"d_fake_loss\": -1.5}, {\"real_logits\": 0.6000000238418579, \"fake_logits\": 0.6000000238418579, \"g_loss\": -0.6000000238418579, \"d_real_loss\": -0.3999999761581421, \"d_fake_loss\": -1.600000023841858}, {\"real_logits\": 0.699999988079071, \"fake_logits\": 0.699999988079071, \"g_loss\": -0.699999988079071, \"d_real_loss\": -0.30000001192092896, \"d_fake_loss\": -1.7000000476837158}, {\"real_logits\": 0.800000011920929, \"fake_logits\": 0.800000011920929, \"g_loss\": -0.800000011920929, \"d_real_loss\": -0.19999998807907104, \"d_fake_loss\": -1.7999999523162842}, {\"real_logits\": 0.8999999761581421, \"fake_logits\": 0.8999999761581421, \"g_loss\": -0.8999999761581421, \"d_real_loss\": -0.10000002384185791, \"d_fake_loss\": -1.899999976158142}, {\"real_logits\": 1.0, \"fake_logits\": 1.0, \"g_loss\": -1.0, \"d_real_loss\": 0.0, \"d_fake_loss\": -2.0}, {\"real_logits\": 1.100000023841858, \"fake_logits\": 1.100000023841858, \"g_loss\": -1.100000023841858, \"d_real_loss\": 0.0, \"d_fake_loss\": -2.0999999046325684}, {\"real_logits\": 1.2000000476837158, \"fake_logits\": 1.2000000476837158, \"g_loss\": -1.2000000476837158, \"d_real_loss\": 0.0, \"d_fake_loss\": -2.200000047683716}, {\"real_logits\": 1.2999999523162842, \"fake_logits\": 1.2999999523162842, \"g_loss\": -1.2999999523162842, \"d_real_loss\": 0.0, \"d_fake_loss\": -2.299999952316284}, {\"real_logits\": 1.399999976158142, \"fake_logits\": 1.399999976158142, \"g_loss\": -1.399999976158142, \"d_real_loss\": 0.0, \"d_fake_loss\": -2.4000000953674316}, {\"real_logits\": 1.5, \"fake_logits\": 1.5, \"g_loss\": -1.5, \"d_real_loss\": 0.0, \"d_fake_loss\": -2.5}, {\"real_logits\": 1.600000023841858, \"fake_logits\": 1.600000023841858, \"g_loss\": -1.600000023841858, \"d_real_loss\": 0.0, \"d_fake_loss\": -2.5999999046325684}, {\"real_logits\": 1.7000000476837158, \"fake_logits\": 1.7000000476837158, \"g_loss\": -1.7000000476837158, \"d_real_loss\": 0.0, \"d_fake_loss\": -2.700000047683716}, {\"real_logits\": 1.7999999523162842, \"fake_logits\": 1.7999999523162842, \"g_loss\": -1.7999999523162842, \"d_real_loss\": 0.0, \"d_fake_loss\": -2.799999952316284}, {\"real_logits\": 1.899999976158142, \"fake_logits\": 1.899999976158142, \"g_loss\": -1.899999976158142, \"d_real_loss\": 0.0, \"d_fake_loss\": -2.9000000953674316}, {\"real_logits\": 2.0, \"fake_logits\": 2.0, \"g_loss\": -2.0, \"d_real_loss\": 0.0, \"d_fake_loss\": -3.0}, {\"real_logits\": 2.0999999046325684, \"fake_logits\": 2.0999999046325684, \"g_loss\": -2.0999999046325684, \"d_real_loss\": 0.0, \"d_fake_loss\": -3.0999999046325684}, {\"real_logits\": 2.200000047683716, \"fake_logits\": 2.200000047683716, \"g_loss\": -2.200000047683716, \"d_real_loss\": 0.0, \"d_fake_loss\": -3.200000047683716}, {\"real_logits\": 2.299999952316284, \"fake_logits\": 2.299999952316284, \"g_loss\": -2.299999952316284, \"d_real_loss\": 0.0, \"d_fake_loss\": -3.299999952316284}, {\"real_logits\": 2.4000000953674316, \"fake_logits\": 2.4000000953674316, \"g_loss\": -2.4000000953674316, \"d_real_loss\": 0.0, \"d_fake_loss\": -3.4000000953674316}, {\"real_logits\": 2.5, \"fake_logits\": 2.5, \"g_loss\": -2.5, \"d_real_loss\": 0.0, \"d_fake_loss\": -3.5}, {\"real_logits\": 2.5999999046325684, \"fake_logits\": 2.5999999046325684, \"g_loss\": -2.5999999046325684, \"d_real_loss\": 0.0, \"d_fake_loss\": -3.5999999046325684}, {\"real_logits\": 2.700000047683716, \"fake_logits\": 2.700000047683716, \"g_loss\": -2.700000047683716, \"d_real_loss\": 0.0, \"d_fake_loss\": -3.700000047683716}, {\"real_logits\": 2.799999952316284, \"fake_logits\": 2.799999952316284, \"g_loss\": -2.799999952316284, \"d_real_loss\": 0.0, \"d_fake_loss\": -3.799999952316284}, {\"real_logits\": 2.9000000953674316, \"fake_logits\": 2.9000000953674316, \"g_loss\": -2.9000000953674316, \"d_real_loss\": 0.0, \"d_fake_loss\": -3.9000000953674316}]}}, {\"mode\": \"vega-lite\"});\n",
       "</script>"
      ],
      "text/plain": [
       "alt.VConcatChart(...)"
      ]
     },
     "execution_count": null,
     "metadata": {},
     "output_type": "execute_result"
    }
   ],
   "source": [
    "#server\n",
    "draw_adversarial_loss_fns(\"sngan\")"
   ]
  },
  {
   "cell_type": "code",
   "execution_count": null,
   "metadata": {},
   "outputs": [],
   "source": [
    "#hide\n",
    "notebook2script()\n",
    "clear_output()"
   ]
  },
  {
   "cell_type": "code",
   "execution_count": null,
   "metadata": {},
   "outputs": [],
   "source": []
  }
 ],
 "metadata": {
  "kernelspec": {
   "display_name": "conda_learnable_ai",
   "language": "python",
   "name": "conda_learnable_ai"
  }
 },
 "nbformat": 4,
 "nbformat_minor": 4
}
