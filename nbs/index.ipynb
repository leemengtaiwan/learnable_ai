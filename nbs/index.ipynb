{
 "cells": [
  {
   "cell_type": "markdown",
   "metadata": {},
   "source": [
    "# PyTorch Lightning Applications\n",
    "> 以 PyTorch Lightning 實作的機器學習與深度學習應用。"
   ]
  },
  {
   "cell_type": "markdown",
   "metadata": {},
   "source": [
    "## 本地開發"
   ]
  },
  {
   "cell_type": "markdown",
   "metadata": {},
   "source": [
    "載下 repo："
   ]
  },
  {
   "cell_type": "markdown",
   "metadata": {},
   "source": [
    "```bash\n",
    "export REPO=pytorch_lightning_applications\n",
    "git clone https://github.com/leemengtaiwan/$REPO.git\n",
    "cd $REPO\n",
    "```"
   ]
  },
  {
   "cell_type": "markdown",
   "metadata": {},
   "source": [
    "建立新的 [Anaconda](https://www.anaconda.com/) 環境並安裝函式庫："
   ]
  },
  {
   "cell_type": "markdown",
   "metadata": {},
   "source": [
    "```bash\n",
    "conda create -n $REPO python=3.6 -y\n",
    "conda activate $REPO\n",
    "pip install -r requirements.txt\n",
    "```"
   ]
  },
  {
   "cell_type": "markdown",
   "metadata": {},
   "source": [
    "設置 [nbdev](https://github.com/fastai/nbdev) 環境並以可修改的方式安裝此 package："
   ]
  },
  {
   "cell_type": "markdown",
   "metadata": {},
   "source": [
    "```bash\n",
    "nbdev_install_git_hooks\n",
    "nbdev_build_lib\n",
    "pip install -e .\n",
    "nbdev_build_docs\n",
    "```"
   ]
  },
  {
   "cell_type": "code",
   "execution_count": null,
   "metadata": {},
   "outputs": [],
   "source": []
  }
 ],
 "metadata": {
  "kernelspec": {
   "display_name": "Python 3",
   "language": "python",
   "name": "python3"
  }
 },
 "nbformat": 4,
 "nbformat_minor": 2
}
