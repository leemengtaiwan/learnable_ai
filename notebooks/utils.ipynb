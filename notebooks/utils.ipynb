{
 "cells": [
  {
   "cell_type": "code",
   "execution_count": null,
   "metadata": {},
   "outputs": [],
   "source": [
    "# default_exp utils"
   ]
  },
  {
   "cell_type": "code",
   "execution_count": null,
   "metadata": {},
   "outputs": [],
   "source": [
    "#hide\n",
    "from IPython.display import clear_output\n",
    "from nbdev.export import notebook2script\n",
    "from dotenv import load_dotenv\n",
    "%reload_ext autoreload\n",
    "%autoreload 2\n",
    "\n",
    "_ = load_dotenv()"
   ]
  },
  {
   "cell_type": "code",
   "execution_count": null,
   "metadata": {},
   "outputs": [],
   "source": [
    "#export\n",
    "import os\n",
    "import gdown\n",
    "import logging\n",
    "\n",
    "\n",
    "logger = logging.getLogger()\n",
    "logger.setLevel(\"INFO\")"
   ]
  },
  {
   "cell_type": "markdown",
   "metadata": {},
   "source": [
    "# utils\n",
    "\n",
    "> 常用的 utilities。"
   ]
  },
  {
   "cell_type": "markdown",
   "metadata": {},
   "source": [
    "## 下載 Google Drive 上的檔案\n",
    "- [wkentaro/gdown](https://github.com/wkentaro/gdown)"
   ]
  },
  {
   "cell_type": "code",
   "execution_count": null,
   "metadata": {},
   "outputs": [],
   "source": [
    "#export\n",
    "def download_gdrive(url=None, file_id=None, file_name=None, extract_all=False, **kwargs):\n",
    "    assert url or file_id, \"must specify either google drive download url or file id.\"\n",
    "    base_url = \"https://drive.google.com/uc?id={file_id}\"\n",
    "    if url:\n",
    "        file_id, is_download_link = gdown.parse_url.parse_url(url)\n",
    "    elif file_id:\n",
    "        url = base_url.format(file_id=file_id)\n",
    "    \n",
    "    data_folder = os.getenv(\"DATA_FOLDER\", \".\")\n",
    "    if not os.path.exists(data_folder):\n",
    "        os.makedirs(data_folder)\n",
    "    \n",
    "    file_name = file_name if file_name else \"gdrive_{file_id}.zip\"\n",
    "    file_path = os.path.join(data_folder, file_name)\n",
    "    if not os.path.exists(file_path):\n",
    "        downloaded_file_path = gdown.download(url, **kwargs)\n",
    "        os.rename(downloaded_file_path, file_path)\n",
    "        \n",
    "    if extract_all:\n",
    "        files = gdown.extractall(file_path)\n",
    "        return file_path, files\n",
    "    else:\n",
    "        return file_path"
   ]
  },
  {
   "cell_type": "code",
   "execution_count": null,
   "metadata": {},
   "outputs": [
    {
     "data": {
      "text/plain": [
       "'data/crypko_data.zip'"
      ]
     },
     "execution_count": null,
     "metadata": {},
     "output_type": "execute_result"
    }
   ],
   "source": [
    "#server\n",
    "url = \"https://drive.google.com/uc?id=1IGrTr308mGAaCKotpkkm8wTKlWs9Jq-p\"\n",
    "file_name = \"crypko_data.zip\"\n",
    "file_path = download_gdrive(url=url, file_name=file_name)\n",
    "assert file_path == os.path.join(os.getenv(\"DATA_FOLDER\", \".\"), file_name)\n",
    "file_path"
   ]
  },
  {
   "cell_type": "code",
   "execution_count": null,
   "metadata": {},
   "outputs": [
    {
     "data": {
      "text/plain": [
       "['data/faces/',\n",
       " 'data/faces/30553.jpg',\n",
       " 'data/faces/15683.jpg',\n",
       " 'data/faces/14421.jpg',\n",
       " 'data/faces/47597.jpg']"
      ]
     },
     "execution_count": null,
     "metadata": {},
     "output_type": "execute_result"
    }
   ],
   "source": [
    "#server\n",
    "file_path, files = download_gdrive(url=url, file_name=file_name, extract_all=True)\n",
    "assert type(files) == list and len(files) == 71315\n",
    "files[:5]"
   ]
  },
  {
   "cell_type": "code",
   "execution_count": null,
   "metadata": {},
   "outputs": [],
   "source": [
    "#hide\n",
    "notebook2script()\n",
    "clear_output()"
   ]
  },
  {
   "cell_type": "code",
   "execution_count": null,
   "metadata": {},
   "outputs": [],
   "source": []
  }
 ],
 "metadata": {
  "kernelspec": {
   "display_name": "conda_practical_ai",
   "language": "python",
   "name": "conda_practical_ai"
  }
 },
 "nbformat": 4,
 "nbformat_minor": 4
}
