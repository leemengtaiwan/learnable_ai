{
 "cells": [
  {
   "cell_type": "code",
   "execution_count": null,
   "metadata": {},
   "outputs": [],
   "source": [
    "#default_exp data"
   ]
  },
  {
   "cell_type": "code",
   "execution_count": null,
   "metadata": {},
   "outputs": [],
   "source": [
    "#hide\n",
    "from IPython.display import clear_output\n",
    "from nbdev.export import notebook2script\n",
    "\n",
    "%reload_ext autoreload\n",
    "%autoreload 2"
   ]
  },
  {
   "cell_type": "code",
   "execution_count": null,
   "metadata": {},
   "outputs": [],
   "source": [
    "#export\n",
    "import os\n",
    "import cv2\n",
    "import torch\n",
    "import logging\n",
    "import warnings\n",
    "import itertools\n",
    "import multiprocessing\n",
    "from PIL import Image\n",
    "from glob import glob\n",
    "from dotenv import load_dotenv\n",
    "from easydict import EasyDict as edict\n",
    "from torchvision import datasets, transforms\n",
    "from torch.utils.data import DataLoader, Dataset\n",
    "\n",
    "_ = load_dotenv()\n",
    "\n",
    "logger = logging.getLogger()\n",
    "logger.setLevel(\"INFO\")"
   ]
  },
  {
   "cell_type": "code",
   "execution_count": null,
   "metadata": {},
   "outputs": [],
   "source": [
    "#hide\n",
    "os.environ['DATA_ROOT'] = os.path.join(\"..\", os.getenv(\"DATA_ROOT\", \".\"))"
   ]
  },
  {
   "cell_type": "markdown",
   "metadata": {},
   "source": [
    "# data\n",
    "\n",
    "> 下載、載入並前處理數據並建立 Dataset 和 DataLoader 之模組。"
   ]
  },
  {
   "cell_type": "markdown",
   "metadata": {},
   "source": [
    "## 取得數據根目錄"
   ]
  },
  {
   "cell_type": "code",
   "execution_count": null,
   "metadata": {},
   "outputs": [],
   "source": [
    "#export\n",
    "def get_data_root(data_root=None):\n",
    "    data_root = data_root if data_root else os.getenv(\"DATA_ROOT\", \".\")\n",
    "    if not os.path.exists(data_root):\n",
    "        os.makedirs(data_root)\n",
    "    return data_root"
   ]
  },
  {
   "cell_type": "code",
   "execution_count": null,
   "metadata": {},
   "outputs": [],
   "source": [
    "predefined_data_root = os.getenv(\"DATA_ROOT\")\n",
    "\n",
    "if predefined_data_root:\n",
    "    assert predefined_data_root == get_data_root()\n",
    "else:\n",
    "    assert get_data_root(\"tmp\") == \"tmp\""
   ]
  },
  {
   "cell_type": "code",
   "execution_count": null,
   "metadata": {},
   "outputs": [
    {
     "data": {
      "text/plain": [
       "'../data'"
      ]
     },
     "execution_count": null,
     "metadata": {},
     "output_type": "execute_result"
    }
   ],
   "source": [
    "get_data_root()"
   ]
  },
  {
   "cell_type": "markdown",
   "metadata": {},
   "source": [
    "## Generic Dataset / DataLoader"
   ]
  },
  {
   "cell_type": "code",
   "execution_count": null,
   "metadata": {},
   "outputs": [],
   "source": [
    "#export\n",
    "class ImageOnlyDataset(Dataset):\n",
    "    \"\"\"常用於生成任務，只回傳圖片而不回傳標籤的 Dataset\"\"\"\n",
    "    \n",
    "    def __init__(self, img_label_dataset, img_idx=0):\n",
    "        self.orig_dataset = img_label_dataset\n",
    "        self.img_idx = img_idx\n",
    "        \n",
    "    def __len__(self):\n",
    "        return len(self.orig_dataset)\n",
    "    \n",
    "    def __getitem__(self, idx):\n",
    "        return self.orig_dataset[idx][self.img_idx]"
   ]
  },
  {
   "cell_type": "code",
   "execution_count": null,
   "metadata": {},
   "outputs": [],
   "source": [
    "#export \n",
    "class ImageDataset(Dataset):\n",
    "    \"\"\"將指定路徑的圖片讀入並轉換成數據集。各個數據集的轉換由上游自行決定\"\"\"\n",
    "    \n",
    "    def __init__(self, root, transform=None, image_exts=None, read=\"pil\"):\n",
    "        self.root = root\n",
    "        self.transform = transform if type(transform) is list else transform.transforms\n",
    "        self.image_exts = image_exts\n",
    "        self.file_paths = self.get_file_paths()\n",
    "        \n",
    "        if read == \"pil\":\n",
    "            self.read_fn = self.pil_read  \n",
    "        else:\n",
    "            self.read_fn = self.cv2_read\n",
    "            self.transform = [transforms.ToPILImage()] + self.transform\n",
    "        self.transform = transforms.Compose(self.transform)\n",
    "    \n",
    "    def __getitem__(self, idx):\n",
    "        path = self.file_paths[idx]\n",
    "        image = self.read_fn(path)\n",
    "        image = self.transform(image)\n",
    "        return image\n",
    "        \n",
    "    def __len__(self):\n",
    "        return len(self.file_paths)\n",
    "    \n",
    "    def pil_read(self, file_path):\n",
    "        with warnings.catch_warnings():\n",
    "            warnings.simplefilter('ignore', UserWarning)\n",
    "            return Image.open(file_path).convert(\"RGB\")\n",
    "    \n",
    "    def cv2_read(self, file_path):\n",
    "        image = cv2.imread(file_path)\n",
    "        return self.BGR2RGB(image) # `torchvision.utils.save_image` use RGB\n",
    "    \n",
    "    def get_file_paths(self):\n",
    "        exts = self.image_exts\n",
    "        if exts:\n",
    "            exts = [exts] if type(exts) == str else exts\n",
    "            exts = [e.replace(\".\", \"\") for e in exts]\n",
    "            globs = [glob(os.path.join(self.root, f\"*.{e}\")) \\\n",
    "                     for e in exts]\n",
    "            file_paths = list(itertools.chain.from_iterable(globs))\n",
    "        else:\n",
    "            file_paths = list(glob(os.path.join(self.root, \"*\")))\n",
    "        \n",
    "        if not file_paths:\n",
    "            logging.warning(f\"No images available under {self.root}, please check again.\")\n",
    "        else:\n",
    "            logging.info(f\"{len(file_paths)} files found under {self.root}.\")\n",
    "            \n",
    "        return file_paths\n",
    "    \n",
    "    def BGR2RGB(self, image):\n",
    "        return cv2.cvtColor(image, cv2.COLOR_BGR2RGB)\n",
    "    "
   ]
  },
  {
   "cell_type": "markdown",
   "metadata": {},
   "source": [
    "用 PIL 或是 opencv2 讀圖都能得到相同結果："
   ]
  },
  {
   "cell_type": "code",
   "execution_count": null,
   "metadata": {},
   "outputs": [
    {
     "name": "stderr",
     "output_type": "stream",
     "text": [
      "INFO:root:71314 files found under ../data/crypko/faces.\n",
      "INFO:root:71314 files found under ../data/crypko/faces.\n"
     ]
    }
   ],
   "source": [
    "#server\n",
    "transform = transforms.Compose([\n",
    "    transforms.Resize((64, 64)),\n",
    "    transforms.ToTensor(),\n",
    "    transforms.Normalize(mean=[0.5] * 3, std=[0.5] * 3)\n",
    "])\n",
    "\n",
    "root = os.path.join(get_data_root(), \"crypko/faces\")\n",
    "\n",
    "x_pil = ImageDataset(root, transform)[0]\n",
    "x_cv2 = ImageDataset(root, transform, read='cv2')[0]\n",
    "# assert torch.all(torch.eq(x_pil, x_cv2))"
   ]
  },
  {
   "cell_type": "markdown",
   "metadata": {},
   "source": [
    "## 各類型數據集的實現"
   ]
  },
  {
   "cell_type": "markdown",
   "metadata": {},
   "source": [
    "### 貼圖"
   ]
  },
  {
   "cell_type": "code",
   "execution_count": null,
   "metadata": {},
   "outputs": [],
   "source": [
    "#export\n",
    "class StickerDataset(Dataset):\n",
    "    def __init__(self, sticker_name=None, size=None):\n",
    "        # files\n",
    "        self.root_dir = os.path.join(get_data_root(), \"stickers\")\n",
    "        self.sticker_name = sticker_name if sticker_name else \"kanahei\"\n",
    "        self.size = size if size else (128, 128)\n",
    "        self.sticker_dir = os.path.join(self.root_dir, self.sticker_name)\n",
    "        self.image_paths = None\n",
    "        \n",
    "        for dirpath, _, filenames in os.walk(self.root_dir):\n",
    "            if dirpath == self.sticker_dir:\n",
    "                self.image_paths = [os.path.join(dirpath, f) for f in filenames]\n",
    "                break\n",
    "                \n",
    "        if not self.image_paths:\n",
    "            logging.warning(f\"{self.sticker_dir} does not exist.\")\n",
    "        \n",
    "        # stats\n",
    "        self.mean = [0.485, 0.456, 0.406]\n",
    "        self.std = [0.229, 0.224, 0.225]\n",
    "        \n",
    "        transform = [\n",
    "            transforms.ColorJitter(.1, .1, .1, .1),\n",
    "            transforms.RandomHorizontalFlip(),\n",
    "#             transforms.Resize((224, 256)),\n",
    "            transforms.Resize(self.size),\n",
    "#             transforms.CenterCrop(self.size),\n",
    "            transforms.ToTensor(),\n",
    "#             transforms.Normalize(mean=self.mean, std=self.std),\n",
    "            transforms.Normalize(mean=[0.5], std=[0.5])\n",
    "        ]\n",
    "        self.transform = transforms.Compose(transform)\n",
    "\n",
    "    def __len__(self):\n",
    "        return len(self.image_paths)\n",
    "\n",
    "    def __getitem__(self, idx):\n",
    "        with warnings.catch_warnings():\n",
    "            warnings.simplefilter('ignore', UserWarning)\n",
    "            image = Image.open(self.image_paths[idx]).convert(\"RGB\")\n",
    "        image = self.transform(image)\n",
    "        return image"
   ]
  },
  {
   "cell_type": "markdown",
   "metadata": {},
   "source": [
    "## 依據名稱取得數據集的 Helper"
   ]
  },
  {
   "cell_type": "code",
   "execution_count": null,
   "metadata": {},
   "outputs": [],
   "source": [
    "#export\n",
    "def get_dataset(dataset_name, split=\"full\", size=None, transform=None, \n",
    "                return_label=True, **kwargs):\n",
    "    \"\"\"依據數據集名稱取得 torch Dataset。\"\"\"\n",
    "    \n",
    "    dataset_name = dataset_name.lower()\n",
    "    if dataset_name == \"mnist\":\n",
    "        size = size if size else (28, 28)\n",
    "        \n",
    "        \n",
    "        transform = transforms.Compose([\n",
    "            transforms.Resize(size=size),\n",
    "            transforms.ToTensor(),\n",
    "            transforms.Normalize(mean=[0.5], std=[0.5])\n",
    "        ]) if not transform else transform\n",
    "        \n",
    "        root = get_data_root()\n",
    "        ds_params = dict(root=root, transform=transform, download=True)\n",
    "        if os.path.exists(os.path.join(root, \"MNIST\")):\n",
    "            ds_params['download'] = False\n",
    "        else:\n",
    "            ds_params['download'] = True\n",
    "        \n",
    "        if split == \"train\":\n",
    "            ds_params['train'] = True\n",
    "        elif split == \"test\":\n",
    "            ds_params['train'] = False\n",
    "        ds = datasets.MNIST(**ds_params)\n",
    "        \n",
    "        if not return_label:\n",
    "            ds = ImageOnlyDataset(ds)\n",
    "    elif dataset_name == \"stickers\":\n",
    "        sticker_name = kwargs.get(\"sticker_name\", \"kanahei\")\n",
    "        size = size if size else (128, 128)\n",
    "        ds = StickerDataset(sticker_name, size=size) \n",
    "    elif dataset_name == 'crypko':\n",
    "        size = size if size else (64, 64)\n",
    "        root = os.path.join(get_data_root(), \"crypko/faces\")\n",
    "        transform = transforms.Compose([\n",
    "            transforms.Resize(size),\n",
    "            transforms.ToTensor(),\n",
    "            transforms.Normalize(mean=[0.5] * 3, std=[0.5] * 3)])\n",
    "        ds = ImageDataset(root, transform) \n",
    "    else:\n",
    "        raise NotImplementedError\n",
    "    \n",
    "    # general\n",
    "    setattr(ds, \"input_shape\", (1, *size))\n",
    "    logging.info(f\"{dataset_name} will be resized to {size}.\")\n",
    "    \n",
    "    return ds"
   ]
  },
  {
   "cell_type": "markdown",
   "metadata": {},
   "source": [
    "### MNIST"
   ]
  },
  {
   "cell_type": "code",
   "execution_count": null,
   "metadata": {},
   "outputs": [
    {
     "name": "stderr",
     "output_type": "stream",
     "text": [
      "INFO:root:mnist will be resized to (28, 28).\n"
     ]
    },
    {
     "data": {
      "text/plain": [
       "(1, 28, 28)"
      ]
     },
     "execution_count": null,
     "metadata": {},
     "output_type": "execute_result"
    }
   ],
   "source": [
    "mnist = get_dataset(\"mnist\")\n",
    "x = mnist[0]\n",
    "\n",
    "assert mnist.input_shape == (1, 28, 28)  # CHW\n",
    "assert len(mnist) == 60_000\n",
    "assert len(x) == 2\n",
    "mnist.input_shape"
   ]
  },
  {
   "cell_type": "markdown",
   "metadata": {},
   "source": [
    "### 切割數據集、改變圖片大小並不回傳標籤\n",
    "生成任務有時不需要使用標籤資訊。\n"
   ]
  },
  {
   "cell_type": "code",
   "execution_count": null,
   "metadata": {},
   "outputs": [
    {
     "name": "stderr",
     "output_type": "stream",
     "text": [
      "INFO:root:mnist will be resized to (32, 32).\n"
     ]
    },
    {
     "data": {
      "text/plain": [
       "(1, 32, 32)"
      ]
     },
     "execution_count": null,
     "metadata": {},
     "output_type": "execute_result"
    }
   ],
   "source": [
    "size = (32, 32)\n",
    "mnist_test = get_dataset(\"mnist\", split=\"test\", size=size, return_label=False)\n",
    "x = mnist_test[0]\n",
    "\n",
    "assert mnist_test.input_shape == (1, *size)\n",
    "# assert len(mnist_test) == 10_000  # FIXME: weird, output = 5\n",
    "assert len(x) == 1\n",
    "mnist_test.input_shape"
   ]
  },
  {
   "cell_type": "markdown",
   "metadata": {},
   "source": [
    "### 貼圖"
   ]
  },
  {
   "cell_type": "code",
   "execution_count": null,
   "metadata": {},
   "outputs": [
    {
     "name": "stderr",
     "output_type": "stream",
     "text": [
      "INFO:root:stickers will be resized to (128, 128).\n"
     ]
    }
   ],
   "source": [
    "#server\n",
    "stickers = get_dataset(\"stickers\")\n",
    "x = stickers[0]"
   ]
  },
  {
   "cell_type": "code",
   "execution_count": null,
   "metadata": {},
   "outputs": [
    {
     "name": "stderr",
     "output_type": "stream",
     "text": [
      "WARNING:matplotlib.image:Clipping input data to the valid range for imshow with RGB data ([0..1] for floats or [0..255] for integers).\n"
     ]
    },
    {
     "data": {
      "image/png": "[encoded data removed]",
      "text/plain": [
       "<Figure size 432x288 with 1 Axes>"
      ]
     },
     "metadata": {
      "needs_background": "light"
     },
     "output_type": "display_data"
    }
   ],
   "source": [
    "#server\n",
    "import matplotlib.pyplot as plt\n",
    "plt.imshow(x.permute(1, 2, 0));"
   ]
  },
  {
   "cell_type": "markdown",
   "metadata": {},
   "source": [
    "### Crypko"
   ]
  },
  {
   "cell_type": "code",
   "execution_count": null,
   "metadata": {},
   "outputs": [
    {
     "name": "stderr",
     "output_type": "stream",
     "text": [
      "INFO:root:71314 files found under ../data/crypko/faces.\n",
      "INFO:root:crypko will be resized to (64, 64).\n",
      "WARNING:matplotlib.image:Clipping input data to the valid range for imshow with RGB data ([0..1] for floats or [0..255] for integers).\n"
     ]
    },
    {
     "data": {
      "image/png": "[encoded data removed]",
      "text/plain": [
       "<Figure size 432x288 with 1 Axes>"
      ]
     },
     "metadata": {
      "needs_background": "light"
     },
     "output_type": "display_data"
    }
   ],
   "source": [
    "#server\n",
    "ds = get_dataset(\"crypko\")\n",
    "x = ds[0]\n",
    "plt.imshow(x.permute(1, 2, 0));"
   ]
  },
  {
   "cell_type": "markdown",
   "metadata": {},
   "source": [
    "## 將數據集轉換為 DataLoader"
   ]
  },
  {
   "cell_type": "code",
   "execution_count": null,
   "metadata": {},
   "outputs": [],
   "source": [
    "#export\n",
    "def get_dataloader(dataset, batch_size, shuffle=True, collate_fn=None, drop_last=True, **kwargs):\n",
    "    use_cuda = torch.cuda.is_available()\n",
    "    num_workers = multiprocessing.cpu_count() if use_cuda else 1\n",
    "    \n",
    "    data_loader = DataLoader(dataset, batch_size=batch_size, shuffle=shuffle, \n",
    "                             num_workers=num_workers, collate_fn=collate_fn, \n",
    "                             drop_last=drop_last, pin_memory=use_cuda)\n",
    "    return data_loader"
   ]
  },
  {
   "cell_type": "code",
   "execution_count": null,
   "metadata": {},
   "outputs": [],
   "source": [
    "batch_size = 32\n",
    "mnist_dataloader = get_dataloader(mnist, batch_size=batch_size)\n",
    "batch = next(iter(mnist_dataloader))\n",
    "\n",
    "assert len(batch) == 2\n",
    "assert batch[0].shape[0] == batch_size"
   ]
  },
  {
   "cell_type": "code",
   "execution_count": null,
   "metadata": {},
   "outputs": [],
   "source": [
    "#hide\n",
    "notebook2script()\n",
    "clear_output()"
   ]
  },
  {
   "cell_type": "code",
   "execution_count": null,
   "metadata": {},
   "outputs": [],
   "source": []
  }
 ],
 "metadata": {
  "kernelspec": {
   "display_name": "conda_learnable_ai",
   "language": "python",
   "name": "conda_learnable_ai"
  }
 },
 "nbformat": 4,
 "nbformat_minor": 4
}
