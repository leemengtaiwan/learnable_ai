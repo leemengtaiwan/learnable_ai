{
 "cells": [
  {
   "cell_type": "code",
   "execution_count": null,
   "metadata": {},
   "outputs": [],
   "source": [
    "#default_exp vision.gan.loss"
   ]
  },
  {
   "cell_type": "code",
   "execution_count": null,
   "metadata": {},
   "outputs": [],
   "source": [
    "#hide\n",
    "from IPython.display import clear_output\n",
    "from nbdev.export import notebook2script\n",
    "%reload_ext autoreload\n",
    "%autoreload 2"
   ]
  },
  {
   "cell_type": "code",
   "execution_count": null,
   "metadata": {},
   "outputs": [],
   "source": [
    "#export\n",
    "import torch\n",
    "import logging\n",
    "from torch import nn\n",
    "\n",
    "\n",
    "logger = logging.getLogger()\n",
    "logger.setLevel(\"INFO\")"
   ]
  },
  {
   "cell_type": "markdown",
   "metadata": {},
   "source": [
    "# vision.gan.loss\n",
    "\n",
    "> 對抗生成網路（Generative Adversarial Network） 常見的損失函數。"
   ]
  },
  {
   "cell_type": "code",
   "execution_count": null,
   "metadata": {},
   "outputs": [],
   "source": [
    "#export\n",
    "def get_gan_losses_fns(is_logits=True, on_gpu=False):\n",
    "    if is_logits:\n",
    "        bce = nn.BCEWithLogitsLoss()\n",
    "    else:\n",
    "        bce = nn.BCELoss()\n",
    "    \n",
    "    def g_loss_fn(fake_logits, on_gpu=False):\n",
    "        ones = torch.ones_like(fake_logits)\n",
    "        if on_gpu:\n",
    "            ones = ones.cuda(fake_logits.device.index)\n",
    "        return bce(fake_logits, ones)\n",
    "    \n",
    "    def d_loss_fn(real_logits, fake_logits, on_gpu=False):\n",
    "        ones = torch.ones_like(real_logits)\n",
    "        zeros = torch.zeros_like(fake_logits)\n",
    "        \n",
    "        if on_gpu:\n",
    "            ones = ones.cuda(real_logits.device.index)\n",
    "            zeros = zeros.cuda(fake_logits.device.index)\n",
    "        \n",
    "        real_loss = bce(real_logits, ones)\n",
    "        fake_loss = bce(fake_logits, zeros)\n",
    "        return real_loss, fake_loss\n",
    "    \n",
    "    return g_loss_fn, d_loss_fn"
   ]
  },
  {
   "cell_type": "code",
   "execution_count": null,
   "metadata": {},
   "outputs": [],
   "source": [
    "#export\n",
    "def get_adversarial_losses_fns(_type, is_logits=True, on_gpu=False):\n",
    "    if _type == \"gan\":\n",
    "        fn = get_gan_losses_fns\n",
    "    else:\n",
    "        raise NotImplementedError\n",
    "        \n",
    "    return fn(is_logits=is_logits, on_gpu=on_gpu)"
   ]
  },
  {
   "cell_type": "code",
   "execution_count": null,
   "metadata": {},
   "outputs": [],
   "source": [
    "#hide\n",
    "notebook2script()\n",
    "clear_output()"
   ]
  }
 ],
 "metadata": {
  "kernelspec": {
   "display_name": "conda_practical_ai",
   "language": "python",
   "name": "conda_practical_ai"
  },
  "language_info": {
   "codemirror_mode": {
    "name": "ipython",
    "version": 3
   },
   "file_extension": ".py",
   "mimetype": "text/x-python",
   "name": "python",
   "nbconvert_exporter": "python",
   "pygments_lexer": "ipython3",
   "version": "3.6.10"
  }
 },
 "nbformat": 4,
 "nbformat_minor": 4
}
