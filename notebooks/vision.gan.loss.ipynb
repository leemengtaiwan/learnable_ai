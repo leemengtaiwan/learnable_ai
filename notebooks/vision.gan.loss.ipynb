{
 "cells": [
  {
   "cell_type": "code",
   "execution_count": null,
   "metadata": {},
   "outputs": [],
   "source": [
    "#default_exp vision.gan.loss"
   ]
  },
  {
   "cell_type": "code",
   "execution_count": null,
   "metadata": {},
   "outputs": [],
   "source": [
    "#hide\n",
    "from IPython.display import clear_output\n",
    "from nbdev.export import notebook2script\n",
    "%reload_ext autoreload\n",
    "%autoreload 2"
   ]
  },
  {
   "cell_type": "code",
   "execution_count": null,
   "metadata": {},
   "outputs": [],
   "source": [
    "#export\n",
    "import torch\n",
    "import logging\n",
    "from torch import nn\n",
    "\n",
    "\n",
    "logger = logging.getLogger()\n",
    "logger.setLevel(\"INFO\")"
   ]
  },
  {
   "cell_type": "markdown",
   "metadata": {},
   "source": [
    "# vision.gan.loss\n",
    "\n",
    "> 對抗生成網路（Generative Adversarial Network） 常見的損失函數。"
   ]
  },
  {
   "cell_type": "markdown",
   "metadata": {},
   "source": [
    "## 建立跟 logits 同 device 的 label tensor"
   ]
  },
  {
   "cell_type": "code",
   "execution_count": null,
   "metadata": {},
   "outputs": [],
   "source": [
    "#export\n",
    "def create_like(t, func, on_gpu=False):\n",
    "    t2 = func(t)\n",
    "    if on_gpu:\n",
    "        t2 = t.cuda(t.device.index)\n",
    "    return t2\n",
    "\n",
    "\n",
    "def ones_like(t, on_gpu=False):\n",
    "    return create_like(t, torch.ones_like, on_gpu)\n",
    "\n",
    "\n",
    "def zeros_like(t, on_gpu=False):\n",
    "    return create_like(t, torch.zeros_like, on_gpu)"
   ]
  },
  {
   "cell_type": "markdown",
   "metadata": {},
   "source": [
    "## GAN"
   ]
  },
  {
   "cell_type": "code",
   "execution_count": null,
   "metadata": {},
   "outputs": [],
   "source": [
    "#export\n",
    "def get_gan_loss_fns(is_logits=True, on_gpu=False):\n",
    "    if is_logits:\n",
    "        bce = nn.BCEWithLogitsLoss()\n",
    "    else:\n",
    "        bce = nn.BCELoss()\n",
    "    \n",
    "    def g_loss_fn(fake_logits, on_gpu=False):\n",
    "        return bce(fake_logits, ones_like(fake_logits, on_gpu))\n",
    "    \n",
    "    def d_loss_fn(real_logits, fake_logits, on_gpu=False):\n",
    "        real_loss = bce(real_logits, ones_like(real_logits, on_gpu))\n",
    "        fake_loss = bce(fake_logits, zeros_like(fake_logits, on_gpu))\n",
    "        return real_loss, fake_loss\n",
    "    \n",
    "    return g_loss_fn, d_loss_fn"
   ]
  },
  {
   "cell_type": "markdown",
   "metadata": {},
   "source": [
    "### LSGAN"
   ]
  },
  {
   "cell_type": "code",
   "execution_count": null,
   "metadata": {},
   "outputs": [],
   "source": [
    "#export\n",
    "def get_lsgan_loss_fns(is_logits=True, on_gpu=False):\n",
    "    mse = nn.MSELoss()\n",
    "\n",
    "    def g_loss_fn(fake_logits, on_gpu=False):\n",
    "        return mse(fake_logits, ones_like(fake_logits, on_gpu))\n",
    "    \n",
    "    def d_loss_fn(real_logits, fake_logits, on_gpu=False):\n",
    "        real_loss = mse(real_logits, ones_like(real_logits, on_gpu))\n",
    "        fake_loss = mse(fake_logits, zeros_like(fake_logits, on_gpu))\n",
    "        return real_loss, fake_loss\n",
    "\n",
    "    return g_loss_fn, d_loss_fn"
   ]
  },
  {
   "cell_type": "markdown",
   "metadata": {},
   "source": [
    "## WGAN"
   ]
  },
  {
   "cell_type": "code",
   "execution_count": null,
   "metadata": {},
   "outputs": [],
   "source": [
    "#export\n",
    "def get_wgan_loss_fns(is_logits=True, **kwargs):\n",
    "    \n",
    "    def g_loss_fn(fake_logits):\n",
    "        return -fake_logits.mean()\n",
    "    \n",
    "    def d_loss_fn(real_logits, fake_logits, on_gpu=False):\n",
    "        real_loss = -real_logits.mean()\n",
    "        fake_loss = fake_logits.mean()\n",
    "        return real_loss, fake_loss\n",
    "\n",
    "    return g_loss_fn, d_loss_fn"
   ]
  },
  {
   "cell_type": "markdown",
   "metadata": {},
   "source": [
    "### 依據名稱取得對應 GAN 損失函數的 Helper"
   ]
  },
  {
   "cell_type": "code",
   "execution_count": null,
   "metadata": {},
   "outputs": [],
   "source": [
    "#export\n",
    "def get_adversarial_loss_fns(_type, is_logits=True, on_gpu=False):\n",
    "    if _type == \"gan\":\n",
    "        fn = get_gan_loss_fns\n",
    "    elif _type == \"lsgan\":\n",
    "        fn = get_lsgan_loss_fns\n",
    "    elif _type == \"wgan\":\n",
    "        fn = get_wgan_loss_fns\n",
    "    else:\n",
    "        raise NotImplementedError\n",
    "        \n",
    "    return fn(is_logits=is_logits, on_gpu=on_gpu)"
   ]
  },
  {
   "cell_type": "code",
   "execution_count": null,
   "metadata": {},
   "outputs": [],
   "source": [
    "#hide\n",
    "notebook2script()\n",
    "clear_output()"
   ]
  }
 ],
 "metadata": {
  "kernelspec": {
   "display_name": "conda_learnable_ai",
   "language": "python",
   "name": "conda_learnable_ai"
  }
 },
 "nbformat": 4,
 "nbformat_minor": 4
}
