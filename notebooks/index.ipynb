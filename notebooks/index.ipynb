{
 "cells": [
  {
   "cell_type": "markdown",
   "metadata": {},
   "source": [
    "<div align=\"center\">\n",
    "\n",
    "![Logo](images/icon67.png)\n",
    "\n",
    "# Learnable AI\n",
    "\n",
    "**以 PyTorch 實作，可供學習 AI 的各式深度學習應用。**\n",
    "\n",
    "</div>\n",
    "\n",
    "---\n",
    "\n",
    "\n",
    "## 本地開發與環境設置\n",
    "\n",
    "載下 repo：\n",
    "\n",
    "```bash\n",
    "export REPO=practical_ai\n",
    "git clone https://github.com/leemengtaiwan/$REPO.git\n",
    "cd $REPO\n",
    "```\n",
    "\n",
    "建立新的 [Anaconda](https://www.anaconda.com/) 環境並在該環境內安裝函式庫：\n",
    "\n",
    "```bash\n",
    "conda create -n $REPO python=3.6 -y\n",
    "conda activate $REPO  # 或 source activate $REPO\n",
    "pip install -r requirements.txt\n",
    "\n",
    "conda install pytorch torchvision cudatoolkit=10.1 -c pytorch\n",
    "conda install -c conda-forge opencv\n",
    "```\n",
    "\n",
    "安裝 Jupyter Lab：\n",
    "\n",
    "```bash\n",
    "conda install -c conda-forge jupyterlab -y\n",
    "```\n",
    "\n",
    "\n",
    "設置 [nbdev](https://github.com/fastai/nbdev) 環境並以 editable 的方式安裝此 package：\n",
    "\n",
    "```bash\n",
    "nbdev_install_git_hooks\n",
    "nbdev_build_lib\n",
    "pip install -e \".[dev]\"\n",
    "```\n",
    "\n",
    "建立環境變數文件：\n",
    "\n",
    "```bash\n",
    "touch .env\n",
    "echo 'export DATA_ROOT=data' >> .env\n",
    "```"
   ]
  },
  {
   "cell_type": "code",
   "execution_count": null,
   "metadata": {},
   "outputs": [],
   "source": []
  }
 ],
 "metadata": {
  "kernelspec": {
   "display_name": "conda_learnable_ai",
   "language": "python",
   "name": "conda_learnable_ai"
  },
  "language_info": {
   "codemirror_mode": {
    "name": "ipython",
    "version": 3
   },
   "file_extension": ".py",
   "mimetype": "text/x-python",
   "name": "python",
   "nbconvert_exporter": "python",
   "pygments_lexer": "ipython3",
   "version": "3.6.10"
  }
 },
 "nbformat": 4,
 "nbformat_minor": 4
}
